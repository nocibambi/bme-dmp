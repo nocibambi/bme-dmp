{
 "cells": [
  {
   "cell_type": "markdown",
   "metadata": {},
   "source": [
    "# KISHÁZI\n",
    "\n",
    "A folyamat elejét az órai anyaghoz hasonlóan összeraktuk, a befejezés a cél, azaz háromfajta modell és legalább 10 változó alapján történő modellezés, a lehető legjobb megoldás megtalálása\n",
    "\n",
    "__FONTOS__: Első lépésben készíts egy másolatot erről a notebookról, és nevezd át a neptunkódodra. Másolás módja: File menü: \"Make a copy...\" parancs, átnevezés: kattints az új címre, akkor editálhatóvá válik"
   ]
  },
  {
   "cell_type": "code",
   "execution_count": 1,
   "metadata": {},
   "outputs": [
    {
     "name": "stderr",
     "output_type": "stream",
     "text": [
      "/home/jupyter/kernels/jupyter3/lib/python3.6/site-packages/sklearn/cross_validation.py:41: DeprecationWarning: This module was deprecated in version 0.18 in favor of the model_selection module into which all the refactored classes and functions are moved. Also note that the interface of the new CV iterators are different from that of this module. This module will be removed in 0.20.\n",
      "  \"This module will be removed in 0.20.\", DeprecationWarning)\n"
     ]
    }
   ],
   "source": [
    "import pandas as pd\n",
    "import numpy as np\n",
    "import matplotlib.pyplot as plt\n",
    "import pylab as P\n",
    "\n",
    "from sklearn.cross_validation import KFold as cval\n",
    "from sklearn import linear_model\n",
    "from sklearn.metrics import mean_squared_error as mse\n",
    "from sklearn.metrics import roc_auc_score as auc_score\n",
    "from sklearn.cross_validation import train_test_split\n",
    "from sklearn.metrics import accuracy_score\n",
    "\n",
    "%matplotlib inline\n",
    "\n"
   ]
  },
  {
   "cell_type": "markdown",
   "metadata": {},
   "source": [
    "# Adatok betöltése"
   ]
  },
  {
   "cell_type": "code",
   "execution_count": 2,
   "metadata": {
    "collapsed": true
   },
   "outputs": [],
   "source": [
    "#Adatok beolvasasa, nezzuk meg meg milyen formatumokat lehet (shift kiegeszites)\n",
    "\n",
    "df = pd.read_csv('../data/caravan_withname.txt',sep=\"\\t\")"
   ]
  },
  {
   "cell_type": "code",
   "execution_count": 3,
   "metadata": {},
   "outputs": [
    {
     "data": {
      "text/html": [
       "<div>\n",
       "<style scoped>\n",
       "    .dataframe tbody tr th:only-of-type {\n",
       "        vertical-align: middle;\n",
       "    }\n",
       "\n",
       "    .dataframe tbody tr th {\n",
       "        vertical-align: top;\n",
       "    }\n",
       "\n",
       "    .dataframe thead th {\n",
       "        text-align: right;\n",
       "    }\n",
       "</style>\n",
       "<table border=\"1\" class=\"dataframe\">\n",
       "  <thead>\n",
       "    <tr style=\"text-align: right;\">\n",
       "      <th></th>\n",
       "      <th>MOSTYPE</th>\n",
       "      <th>MAANTHUI</th>\n",
       "      <th>MGEMOMV</th>\n",
       "      <th>MGEMLEEF</th>\n",
       "      <th>MOSHOOFD</th>\n",
       "      <th>MGODRK</th>\n",
       "      <th>MGODPR</th>\n",
       "      <th>MGODOV</th>\n",
       "      <th>MGODGE</th>\n",
       "      <th>MRELGE</th>\n",
       "      <th>...</th>\n",
       "      <th>APERSONG</th>\n",
       "      <th>AGEZONG</th>\n",
       "      <th>AWAOREG</th>\n",
       "      <th>ABRAND</th>\n",
       "      <th>AZEILPL</th>\n",
       "      <th>APLEZIER</th>\n",
       "      <th>AFIETS</th>\n",
       "      <th>AINBOED</th>\n",
       "      <th>ABYSTAND</th>\n",
       "      <th>CARAVAN</th>\n",
       "    </tr>\n",
       "  </thead>\n",
       "  <tbody>\n",
       "    <tr>\n",
       "      <th>0</th>\n",
       "      <td>33</td>\n",
       "      <td>1</td>\n",
       "      <td>3</td>\n",
       "      <td>2</td>\n",
       "      <td>8</td>\n",
       "      <td>0</td>\n",
       "      <td>5</td>\n",
       "      <td>1</td>\n",
       "      <td>3</td>\n",
       "      <td>7</td>\n",
       "      <td>...</td>\n",
       "      <td>0</td>\n",
       "      <td>0</td>\n",
       "      <td>0</td>\n",
       "      <td>1</td>\n",
       "      <td>0</td>\n",
       "      <td>0</td>\n",
       "      <td>0</td>\n",
       "      <td>0</td>\n",
       "      <td>0</td>\n",
       "      <td>0</td>\n",
       "    </tr>\n",
       "    <tr>\n",
       "      <th>1</th>\n",
       "      <td>37</td>\n",
       "      <td>1</td>\n",
       "      <td>2</td>\n",
       "      <td>2</td>\n",
       "      <td>8</td>\n",
       "      <td>1</td>\n",
       "      <td>4</td>\n",
       "      <td>1</td>\n",
       "      <td>4</td>\n",
       "      <td>6</td>\n",
       "      <td>...</td>\n",
       "      <td>0</td>\n",
       "      <td>0</td>\n",
       "      <td>0</td>\n",
       "      <td>1</td>\n",
       "      <td>0</td>\n",
       "      <td>0</td>\n",
       "      <td>0</td>\n",
       "      <td>0</td>\n",
       "      <td>0</td>\n",
       "      <td>0</td>\n",
       "    </tr>\n",
       "    <tr>\n",
       "      <th>2</th>\n",
       "      <td>37</td>\n",
       "      <td>1</td>\n",
       "      <td>2</td>\n",
       "      <td>2</td>\n",
       "      <td>8</td>\n",
       "      <td>0</td>\n",
       "      <td>4</td>\n",
       "      <td>2</td>\n",
       "      <td>4</td>\n",
       "      <td>3</td>\n",
       "      <td>...</td>\n",
       "      <td>0</td>\n",
       "      <td>0</td>\n",
       "      <td>0</td>\n",
       "      <td>1</td>\n",
       "      <td>0</td>\n",
       "      <td>0</td>\n",
       "      <td>0</td>\n",
       "      <td>0</td>\n",
       "      <td>0</td>\n",
       "      <td>0</td>\n",
       "    </tr>\n",
       "    <tr>\n",
       "      <th>3</th>\n",
       "      <td>9</td>\n",
       "      <td>1</td>\n",
       "      <td>3</td>\n",
       "      <td>3</td>\n",
       "      <td>3</td>\n",
       "      <td>2</td>\n",
       "      <td>3</td>\n",
       "      <td>2</td>\n",
       "      <td>4</td>\n",
       "      <td>5</td>\n",
       "      <td>...</td>\n",
       "      <td>0</td>\n",
       "      <td>0</td>\n",
       "      <td>0</td>\n",
       "      <td>1</td>\n",
       "      <td>0</td>\n",
       "      <td>0</td>\n",
       "      <td>0</td>\n",
       "      <td>0</td>\n",
       "      <td>0</td>\n",
       "      <td>0</td>\n",
       "    </tr>\n",
       "    <tr>\n",
       "      <th>4</th>\n",
       "      <td>40</td>\n",
       "      <td>1</td>\n",
       "      <td>4</td>\n",
       "      <td>2</td>\n",
       "      <td>10</td>\n",
       "      <td>1</td>\n",
       "      <td>4</td>\n",
       "      <td>1</td>\n",
       "      <td>4</td>\n",
       "      <td>7</td>\n",
       "      <td>...</td>\n",
       "      <td>0</td>\n",
       "      <td>0</td>\n",
       "      <td>0</td>\n",
       "      <td>1</td>\n",
       "      <td>0</td>\n",
       "      <td>0</td>\n",
       "      <td>0</td>\n",
       "      <td>0</td>\n",
       "      <td>0</td>\n",
       "      <td>0</td>\n",
       "    </tr>\n",
       "  </tbody>\n",
       "</table>\n",
       "<p>5 rows × 86 columns</p>\n",
       "</div>"
      ],
      "text/plain": [
       "   MOSTYPE  MAANTHUI  MGEMOMV  MGEMLEEF  MOSHOOFD  MGODRK  MGODPR  MGODOV  \\\n",
       "0       33         1        3         2         8       0       5       1   \n",
       "1       37         1        2         2         8       1       4       1   \n",
       "2       37         1        2         2         8       0       4       2   \n",
       "3        9         1        3         3         3       2       3       2   \n",
       "4       40         1        4         2        10       1       4       1   \n",
       "\n",
       "   MGODGE  MRELGE   ...     APERSONG  AGEZONG  AWAOREG  ABRAND  AZEILPL  \\\n",
       "0       3       7   ...            0        0        0       1        0   \n",
       "1       4       6   ...            0        0        0       1        0   \n",
       "2       4       3   ...            0        0        0       1        0   \n",
       "3       4       5   ...            0        0        0       1        0   \n",
       "4       4       7   ...            0        0        0       1        0   \n",
       "\n",
       "   APLEZIER  AFIETS  AINBOED  ABYSTAND  CARAVAN  \n",
       "0         0       0        0         0        0  \n",
       "1         0       0        0         0        0  \n",
       "2         0       0        0         0        0  \n",
       "3         0       0        0         0        0  \n",
       "4         0       0        0         0        0  \n",
       "\n",
       "[5 rows x 86 columns]"
      ]
     },
     "execution_count": 3,
     "metadata": {},
     "output_type": "execute_result"
    }
   ],
   "source": [
    "#Elso 5 sor lekerdezese\n",
    "df.head()\n"
   ]
  },
  {
   "cell_type": "markdown",
   "metadata": {},
   "source": [
    "# 1. FELADAT - Eloszlasok megfigyelése"
   ]
  },
  {
   "cell_type": "markdown",
   "metadata": {},
   "source": [
    "Nézzük meg két változó eloszlását, alapstatisztikáját. Vizsgáljuk meg a célváltozót (utolsó oszlop, \"CARAVAN\"), a második oszlopot, ami azt mutatja hány háza van az illetőnek (MAANTHUI).\n",
    "\n",
    "Ehhez használjuk az alábbi példakódokat\n"
   ]
  },
  {
   "cell_type": "code",
   "execution_count": 4,
   "metadata": {},
   "outputs": [
    {
     "data": {
      "text/plain": [
       "5812    0\n",
       "5813    0\n",
       "5814    0\n",
       "5815    0\n",
       "5816    0\n",
       "5817    2\n",
       "5818    0\n",
       "5819    0\n",
       "5820    0\n",
       "5821    0\n",
       "Name: ALEVEN, dtype: int64"
      ]
     },
     "execution_count": 4,
     "metadata": {},
     "output_type": "execute_result"
    }
   ],
   "source": [
    "#Egyetlegn oszlopnyi adat statisztikáját megkapjuk, ha használjuk a .describe() tagfüggvényt. ALEVEN változó \n",
    "# az életbiztosítások számát mutatja meg.\n",
    "\n",
    "#ALEVEN oszlop kivalasztasa, majd utolso 10 soranak kiirasa\n",
    "df[\"ALEVEN\"].tail(10)"
   ]
  },
  {
   "cell_type": "code",
   "execution_count": 5,
   "metadata": {},
   "outputs": [
    {
     "data": {
      "text/plain": [
       "count    5822.000000\n",
       "mean        0.076606\n",
       "std         0.377569\n",
       "min         0.000000\n",
       "25%         0.000000\n",
       "50%         0.000000\n",
       "75%         0.000000\n",
       "max         8.000000\n",
       "Name: ALEVEN, dtype: float64"
      ]
     },
     "execution_count": 5,
     "metadata": {},
     "output_type": "execute_result"
    }
   ],
   "source": [
    "# Alapstatisztikak gyors kiszamitasa\n",
    "df[\"ALEVEN\"].describe()"
   ]
  },
  {
   "cell_type": "code",
   "execution_count": 6,
   "metadata": {},
   "outputs": [
    {
     "data": {
      "image/png": "[encoded data removed]",
      "text/plain": [
       "<matplotlib.figure.Figure at 0x7ff1338027f0>"
      ]
     },
     "metadata": {},
     "output_type": "display_data"
    }
   ],
   "source": [
    "#Gyorsan lehet hisztogrammot rajzolni, az alabbi modon\n",
    "x=[1,1,1,1,1,2,2,2,3]\n",
    "plt.hist(x)\n",
    "plt.show()"
   ]
  },
  {
   "cell_type": "markdown",
   "metadata": {},
   "source": [
    "\n",
    "Megoldás:"
   ]
  },
  {
   "cell_type": "code",
   "execution_count": 7,
   "metadata": {
    "collapsed": true
   },
   "outputs": [],
   "source": [
    "valtozo = \"MAANTHUI\""
   ]
  },
  {
   "cell_type": "code",
   "execution_count": 8,
   "metadata": {},
   "outputs": [
    {
     "data": {
      "text/plain": [
       "count    5822.000000\n",
       "mean        1.110615\n",
       "std         0.405842\n",
       "min         1.000000\n",
       "25%         1.000000\n",
       "50%         1.000000\n",
       "75%         1.000000\n",
       "max        10.000000\n",
       "Name: MAANTHUI, dtype: float64"
      ]
     },
     "execution_count": 8,
     "metadata": {},
     "output_type": "execute_result"
    }
   ],
   "source": [
    "df[valtozo].describe()"
   ]
  },
  {
   "cell_type": "code",
   "execution_count": 9,
   "metadata": {},
   "outputs": [
    {
     "data": {
      "image/png": "[encoded data removed]",
      "text/plain": [
       "<matplotlib.figure.Figure at 0x7ff1338025c0>"
      ]
     },
     "metadata": {},
     "output_type": "display_data"
    }
   ],
   "source": [
    "plt.hist(df[valtozo])\n",
    "plt.show()"
   ]
  },
  {
   "cell_type": "markdown",
   "metadata": {},
   "source": [
    "## 1. Megoldás"
   ]
  },
  {
   "cell_type": "code",
   "execution_count": 10,
   "metadata": {},
   "outputs": [
    {
     "data": {
      "text/plain": [
       "0    0\n",
       "1    0\n",
       "2    0\n",
       "3    0\n",
       "4    0\n",
       "Name: CARAVAN, dtype: int64"
      ]
     },
     "execution_count": 10,
     "metadata": {},
     "output_type": "execute_result"
    }
   ],
   "source": [
    "df[\"CARAVAN\"].head()"
   ]
  },
  {
   "cell_type": "code",
   "execution_count": 11,
   "metadata": {},
   "outputs": [
    {
     "data": {
      "text/plain": [
       "count    5822.000000\n",
       "mean        0.059773\n",
       "std         0.237087\n",
       "min         0.000000\n",
       "25%         0.000000\n",
       "50%         0.000000\n",
       "75%         0.000000\n",
       "max         1.000000\n",
       "Name: CARAVAN, dtype: float64"
      ]
     },
     "execution_count": 11,
     "metadata": {},
     "output_type": "execute_result"
    }
   ],
   "source": [
    "df[\"CARAVAN\"].describe()"
   ]
  },
  {
   "cell_type": "code",
   "execution_count": 12,
   "metadata": {},
   "outputs": [
    {
     "data": {
      "image/png": "[encoded data removed]",
      "text/plain": [
       "<matplotlib.figure.Figure at 0x7ff1316509e8>"
      ]
     },
     "metadata": {},
     "output_type": "display_data"
    }
   ],
   "source": [
    "plt.hist(df[\"CARAVAN\"])\n",
    "plt.show()"
   ]
  },
  {
   "cell_type": "markdown",
   "metadata": {},
   "source": [
    "# 2. feladat - Első modellépítés\n",
    "\n"
   ]
  },
  {
   "cell_type": "markdown",
   "metadata": {},
   "source": [
    "Vágjuk két részre a fenti adathalmazt véletlenszerűen fele-felére, majd az adatok egyik felén tanítsunk be egy logisztikus regressziós modellt úgy, hogy a bemenő változókból csak az első 3-at használjuk, majd a másik felén nézzük meg, milyen pontos a modellünk: számojuk ki annak találati pontosságát (accuracy), illetve ROC görbéjének AUC értékét.\n",
    "\n",
    "Ehhez az alábbi példákódokat használhatjuk fel."
   ]
  },
  {
   "cell_type": "code",
   "execution_count": 13,
   "metadata": {},
   "outputs": [
    {
     "name": "stdout",
     "output_type": "stream",
     "text": [
      "Size of X_train= 3900\n",
      "Size of Y_train= 3900\n",
      "Size of X_test= 1922\n",
      "Size of Y_test= 1922\n"
     ]
    }
   ],
   "source": [
    "#Szétválasztást segíti az train_test_split függvény, az alabbi peldabol megsejtheto mukodese\n",
    "X=df[  ['MOSTYPE', 'MAANTHUI']   ]\n",
    "Y=df['CARAVAN']\n",
    "X_train, X_test, Y_train, Y_test = train_test_split(X, Y, test_size=0.33, random_state=42)\n",
    "print (\"Size of X_train= \"+str(len(X_train)))\n",
    "print (\"Size of Y_train= \"+str(len(Y_train)))\n",
    "print (\"Size of X_test= \"+str(len(X_test)))\n",
    "print (\"Size of Y_test= \"+str(len(Y_test)))\n",
    "\n"
   ]
  },
  {
   "cell_type": "code",
   "execution_count": 14,
   "metadata": {
    "collapsed": true
   },
   "outputs": [],
   "source": [
    "#Logisztikus regresszio eseten alapvetoen harom fo lepes a lenyeges, a deklaracioja, a tanitasa (fit() tagfuggveny)\n",
    "# es az alkalmazo fuggvenye, amit predictnek hivunk predict()"
   ]
  },
  {
   "cell_type": "code",
   "execution_count": 15,
   "metadata": {
    "collapsed": true
   },
   "outputs": [],
   "source": [
    "model = linear_model.LogisticRegression(C=1e5)"
   ]
  },
  {
   "cell_type": "code",
   "execution_count": 16,
   "metadata": {},
   "outputs": [
    {
     "data": {
      "text/plain": [
       "LogisticRegression(C=100000.0, class_weight=None, dual=False,\n",
       "          fit_intercept=True, intercept_scaling=1, max_iter=100,\n",
       "          multi_class='ovr', n_jobs=1, penalty='l2', random_state=None,\n",
       "          solver='liblinear', tol=0.0001, verbose=0, warm_start=False)"
      ]
     },
     "execution_count": 16,
     "metadata": {},
     "output_type": "execute_result"
    }
   ],
   "source": [
    "model.fit(X_train,Y_train)"
   ]
  },
  {
   "cell_type": "code",
   "execution_count": 17,
   "metadata": {},
   "outputs": [
    {
     "data": {
      "text/plain": [
       "array([0, 0, 0, 0, 0, 0, 0, 0, 0, 0, 0, 0, 0, 0, 0, 0, 0, 0, 0, 0])"
      ]
     },
     "execution_count": 17,
     "metadata": {},
     "output_type": "execute_result"
    }
   ],
   "source": [
    "results=model.predict(X_test)\n",
    "results[:20]"
   ]
  },
  {
   "cell_type": "code",
   "execution_count": 18,
   "metadata": {},
   "outputs": [
    {
     "data": {
      "text/plain": [
       "count    1922.0\n",
       "mean        0.0\n",
       "std         0.0\n",
       "min         0.0\n",
       "25%         0.0\n",
       "50%         0.0\n",
       "75%         0.0\n",
       "max         0.0\n",
       "Name: Tipp, dtype: float64"
      ]
     },
     "execution_count": 18,
     "metadata": {},
     "output_type": "execute_result"
    }
   ],
   "source": [
    "#Mintha mindenkit 0-ra tippelne a rendszer, valoban igy van-e?\n",
    "dfres=pd.DataFrame(results,columns=[\"Tipp\"])\n",
    "dfres['Tipp'].describe()"
   ]
  },
  {
   "cell_type": "code",
   "execution_count": 19,
   "metadata": {},
   "outputs": [
    {
     "data": {
      "text/plain": [
       "array([[0.94698022, 0.05301978],\n",
       "       [0.96004342, 0.03995658],\n",
       "       [0.96206133, 0.03793867],\n",
       "       [0.95682265, 0.04317735],\n",
       "       [0.95899627, 0.04100373]])"
      ]
     },
     "execution_count": 19,
     "metadata": {},
     "output_type": "execute_result"
    }
   ],
   "source": [
    "#Az egyes tippek valoszinusege is kiszedheto\n",
    "result_prob=model.predict_proba(X_test)\n",
    "result_prob[:5]"
   ]
  },
  {
   "cell_type": "code",
   "execution_count": 20,
   "metadata": {},
   "outputs": [
    {
     "data": {
      "text/html": [
       "<div>\n",
       "<style scoped>\n",
       "    .dataframe tbody tr th:only-of-type {\n",
       "        vertical-align: middle;\n",
       "    }\n",
       "\n",
       "    .dataframe tbody tr th {\n",
       "        vertical-align: top;\n",
       "    }\n",
       "\n",
       "    .dataframe thead th {\n",
       "        text-align: right;\n",
       "    }\n",
       "</style>\n",
       "<table border=\"1\" class=\"dataframe\">\n",
       "  <thead>\n",
       "    <tr style=\"text-align: right;\">\n",
       "      <th></th>\n",
       "      <th>Prob_0</th>\n",
       "      <th>Prob_1</th>\n",
       "    </tr>\n",
       "  </thead>\n",
       "  <tbody>\n",
       "    <tr>\n",
       "      <th>0</th>\n",
       "      <td>0.946980</td>\n",
       "      <td>0.053020</td>\n",
       "    </tr>\n",
       "    <tr>\n",
       "      <th>1</th>\n",
       "      <td>0.960043</td>\n",
       "      <td>0.039957</td>\n",
       "    </tr>\n",
       "    <tr>\n",
       "      <th>2</th>\n",
       "      <td>0.962061</td>\n",
       "      <td>0.037939</td>\n",
       "    </tr>\n",
       "    <tr>\n",
       "      <th>3</th>\n",
       "      <td>0.956823</td>\n",
       "      <td>0.043177</td>\n",
       "    </tr>\n",
       "    <tr>\n",
       "      <th>4</th>\n",
       "      <td>0.958996</td>\n",
       "      <td>0.041004</td>\n",
       "    </tr>\n",
       "  </tbody>\n",
       "</table>\n",
       "</div>"
      ],
      "text/plain": [
       "     Prob_0    Prob_1\n",
       "0  0.946980  0.053020\n",
       "1  0.960043  0.039957\n",
       "2  0.962061  0.037939\n",
       "3  0.956823  0.043177\n",
       "4  0.958996  0.041004"
      ]
     },
     "execution_count": 20,
     "metadata": {},
     "output_type": "execute_result"
    }
   ],
   "source": [
    "#Es pandas dataframe-me alakithato\n",
    "dfresults=pd.DataFrame(result_prob,columns=[\"Prob_0\",\"Prob_1\"])\n",
    "dfresults.head()"
   ]
  },
  {
   "cell_type": "code",
   "execution_count": 21,
   "metadata": {},
   "outputs": [
    {
     "data": {
      "text/plain": [
       "0.6"
      ]
     },
     "execution_count": 21,
     "metadata": {},
     "output_type": "execute_result"
    }
   ],
   "source": [
    "# Es akkor a kiertekeles modja\n",
    "y_pred = [0, 2, 1, 3, 0]\n",
    "y_true = [0, 1, 2, 3, 0]\n",
    "accuracy_score(y_true, y_pred)"
   ]
  },
  {
   "cell_type": "code",
   "execution_count": 22,
   "metadata": {},
   "outputs": [
    {
     "data": {
      "text/plain": [
       "1.0"
      ]
     },
     "execution_count": 22,
     "metadata": {},
     "output_type": "execute_result"
    }
   ],
   "source": [
    "# Es akkor a kiertekeles modja\n",
    "y_true = [1, 1, 1, 0, 0]\n",
    "y_pred = [0.8, 0.6, 0.5, 0.4, 0.2]\n",
    "auc_score(y_true, y_pred)"
   ]
  },
  {
   "cell_type": "markdown",
   "metadata": {},
   "source": [
    "Megoldas:"
   ]
  },
  {
   "cell_type": "code",
   "execution_count": 23,
   "metadata": {
    "collapsed": true
   },
   "outputs": [],
   "source": [
    "X=df[  ['MOSTYPE', 'MAANTHUI', 'MGEMOMV']   ]\n",
    "Y=df['CARAVAN']\n",
    "X_train, X_test, Y_train, Y_test = train_test_split(X, Y, test_size=0.5, random_state=42)\n"
   ]
  },
  {
   "cell_type": "code",
   "execution_count": 24,
   "metadata": {
    "collapsed": true
   },
   "outputs": [],
   "source": [
    "model = linear_model.LogisticRegression(C=1e5)"
   ]
  },
  {
   "cell_type": "code",
   "execution_count": 25,
   "metadata": {},
   "outputs": [
    {
     "data": {
      "text/plain": [
       "LogisticRegression(C=100000.0, class_weight=None, dual=False,\n",
       "          fit_intercept=True, intercept_scaling=1, max_iter=100,\n",
       "          multi_class='ovr', n_jobs=1, penalty='l2', random_state=None,\n",
       "          solver='liblinear', tol=0.0001, verbose=0, warm_start=False)"
      ]
     },
     "execution_count": 25,
     "metadata": {},
     "output_type": "execute_result"
    }
   ],
   "source": [
    "model.fit(X_train,Y_train)"
   ]
  },
  {
   "cell_type": "code",
   "execution_count": 26,
   "metadata": {},
   "outputs": [
    {
     "data": {
      "text/plain": [
       "array([[0.9583943 , 0.0416057 ],\n",
       "       [0.95885685, 0.04114315],\n",
       "       [0.95507428, 0.04492572],\n",
       "       [0.96130812, 0.03869188],\n",
       "       [0.95774098, 0.04225902]])"
      ]
     },
     "execution_count": 26,
     "metadata": {},
     "output_type": "execute_result"
    }
   ],
   "source": [
    "result_prob=model.predict_proba(X_test)\n",
    "result_prob[:5]"
   ]
  },
  {
   "cell_type": "code",
   "execution_count": 27,
   "metadata": {},
   "outputs": [
    {
     "data": {
      "text/plain": [
       "array([0, 0, 0, 0, 0, 0, 0, 0, 0, 0, 0, 0, 0, 0, 0, 0, 0, 0, 0, 0])"
      ]
     },
     "execution_count": 27,
     "metadata": {},
     "output_type": "execute_result"
    }
   ],
   "source": [
    "results=model.predict(X_test)\n",
    "results[:20]"
   ]
  },
  {
   "cell_type": "code",
   "execution_count": 28,
   "metadata": {},
   "outputs": [
    {
     "data": {
      "text/plain": [
       "0.9364479560288561"
      ]
     },
     "execution_count": 28,
     "metadata": {},
     "output_type": "execute_result"
    }
   ],
   "source": [
    "acc=accuracy_score(Y_test, results)\n",
    "acc"
   ]
  },
  {
   "cell_type": "code",
   "execution_count": 29,
   "metadata": {},
   "outputs": [
    {
     "data": {
      "text/plain": [
       "0.5543455414328489"
      ]
     },
     "execution_count": 29,
     "metadata": {},
     "output_type": "execute_result"
    }
   ],
   "source": [
    "dfresults=pd.DataFrame(result_prob,columns=[\"Prob_0\",\"Prob_1\"])\n",
    "auc_score(Y_test, dfresults[\"Prob_1\"])"
   ]
  },
  {
   "cell_type": "markdown",
   "metadata": {},
   "source": [
    "##  2. Megoldás"
   ]
  },
  {
   "cell_type": "markdown",
   "metadata": {},
   "source": [
    "Kipróbáljuk a modelt az összes bemeneti változóra."
   ]
  },
  {
   "cell_type": "code",
   "execution_count": 30,
   "metadata": {
    "collapsed": true
   },
   "outputs": [],
   "source": [
    "X=df.iloc[:,:-1]\n",
    "Y=df['CARAVAN']\n",
    "X_train, X_test, Y_train, Y_test = train_test_split(X, Y, test_size=0.5, random_state=42)"
   ]
  },
  {
   "cell_type": "code",
   "execution_count": 31,
   "metadata": {
    "collapsed": true
   },
   "outputs": [],
   "source": [
    "model = linear_model.LogisticRegression(C=1e5)"
   ]
  },
  {
   "cell_type": "code",
   "execution_count": 32,
   "metadata": {},
   "outputs": [
    {
     "data": {
      "text/plain": [
       "LogisticRegression(C=100000.0, class_weight=None, dual=False,\n",
       "          fit_intercept=True, intercept_scaling=1, max_iter=100,\n",
       "          multi_class='ovr', n_jobs=1, penalty='l2', random_state=None,\n",
       "          solver='liblinear', tol=0.0001, verbose=0, warm_start=False)"
      ]
     },
     "execution_count": 32,
     "metadata": {},
     "output_type": "execute_result"
    }
   ],
   "source": [
    "model.fit(X_train,Y_train)"
   ]
  },
  {
   "cell_type": "code",
   "execution_count": 33,
   "metadata": {},
   "outputs": [
    {
     "data": {
      "text/plain": [
       "array([[0.98076649, 0.01923351],\n",
       "       [0.98863612, 0.01136388],\n",
       "       [0.98394566, 0.01605434],\n",
       "       [0.90322882, 0.09677118],\n",
       "       [0.9874569 , 0.0125431 ]])"
      ]
     },
     "execution_count": 33,
     "metadata": {},
     "output_type": "execute_result"
    }
   ],
   "source": [
    "result_prob=model.predict_proba(X_test)\n",
    "result_prob[:5]"
   ]
  },
  {
   "cell_type": "code",
   "execution_count": 34,
   "metadata": {},
   "outputs": [
    {
     "data": {
      "text/plain": [
       "array([0, 0, 0, 0, 0, 0, 0, 0, 0, 0, 0, 0, 0, 0, 0, 0, 0, 0, 0, 0])"
      ]
     },
     "execution_count": 34,
     "metadata": {},
     "output_type": "execute_result"
    }
   ],
   "source": [
    "results=model.predict(X_test)\n",
    "results[:20]"
   ]
  },
  {
   "cell_type": "code",
   "execution_count": 35,
   "metadata": {},
   "outputs": [
    {
     "data": {
      "text/plain": [
       "0.9319821367227756"
      ]
     },
     "execution_count": 35,
     "metadata": {},
     "output_type": "execute_result"
    }
   ],
   "source": [
    "acc2=accuracy_score(Y_test, results)\n",
    "acc2"
   ]
  },
  {
   "cell_type": "code",
   "execution_count": 36,
   "metadata": {},
   "outputs": [
    {
     "data": {
      "text/plain": [
       "0.6929150720786817"
      ]
     },
     "execution_count": 36,
     "metadata": {},
     "output_type": "execute_result"
    }
   ],
   "source": [
    "dfresults=pd.DataFrame(result_prob,columns=[\"Prob_0\",\"Prob_1\"])\n",
    "auc2 = auc_score(Y_test, dfresults[\"Prob_1\"])\n",
    "auc2"
   ]
  },
  {
   "cell_type": "markdown",
   "metadata": {},
   "source": [
    "# 3. feladat - Foglaljuk be egy fuggvenybe"
   ]
  },
  {
   "cell_type": "markdown",
   "metadata": {},
   "source": [
    "Az elozo sok lepeses megoldast fogjuk ossze egyetlen fuggvenybe, aminek a bemenete a modellezo eljaras legyen csak. Ehhez a fuggveny definiciojat kell ismerni."
   ]
  },
  {
   "cell_type": "code",
   "execution_count": 37,
   "metadata": {
    "collapsed": true
   },
   "outputs": [],
   "source": [
    "def negyzetre_emelo_kiiro(x):\n",
    "    result=x*x\n",
    "    print(str(x) + \" * \" + str(x) + \" = \" + str(result))\n",
    "    return result"
   ]
  },
  {
   "cell_type": "code",
   "execution_count": 38,
   "metadata": {},
   "outputs": [
    {
     "name": "stdout",
     "output_type": "stream",
     "text": [
      "2 * 2 = 4\n"
     ]
    }
   ],
   "source": [
    "e=negyzetre_emelo_kiiro(2)"
   ]
  },
  {
   "cell_type": "code",
   "execution_count": 39,
   "metadata": {},
   "outputs": [
    {
     "data": {
      "text/plain": [
       "4"
      ]
     },
     "execution_count": 39,
     "metadata": {},
     "output_type": "execute_result"
    }
   ],
   "source": [
    "e"
   ]
  },
  {
   "cell_type": "markdown",
   "metadata": {},
   "source": [
    "Megoldas:"
   ]
  },
  {
   "cell_type": "code",
   "execution_count": 40,
   "metadata": {
    "collapsed": true
   },
   "outputs": [],
   "source": [
    "def caravan_modellezo(model,modelnev):\n",
    "    model.fit(X_train,Y_train)\n",
    "    result_prob=model.predict_proba(X_test)\n",
    "    results=model.predict(X_test)\n",
    "    acc=accuracy_score(Y_test, results)\n",
    "    dfresults=pd.DataFrame(result_prob,columns=[\"Prob_0\",\"Prob_1\"])\n",
    "    auc=auc_score(Y_test, dfresults[\"Prob_1\"])\n",
    "    print(modelnev + \" hatekonysage: \\tAcc=\"+str(acc)+\"\\tAUC=\"+str(auc))"
   ]
  },
  {
   "cell_type": "code",
   "execution_count": 41,
   "metadata": {
    "collapsed": true
   },
   "outputs": [],
   "source": [
    "m = linear_model.LogisticRegression(C=1e5)"
   ]
  },
  {
   "cell_type": "code",
   "execution_count": 42,
   "metadata": {},
   "outputs": [
    {
     "name": "stdout",
     "output_type": "stream",
     "text": [
      "Logistic Regression hatekonysage: \tAcc=0.9319821367227756\tAUC=0.6929150720786817\n"
     ]
    }
   ],
   "source": [
    "caravan_modellezo(m,\"Logistic Regression\")"
   ]
  },
  {
   "cell_type": "markdown",
   "metadata": {
    "collapsed": true
   },
   "source": [
    "## 3. Megoldás"
   ]
  },
  {
   "cell_type": "markdown",
   "metadata": {},
   "source": [
    "Bemeneti változók: customer main type and subtype"
   ]
  },
  {
   "cell_type": "code",
   "execution_count": 43,
   "metadata": {
    "collapsed": true
   },
   "outputs": [],
   "source": [
    "X=df[['MOSTYPE', 'MOSHOOFD', 'MGEMOMV']]\n",
    "Y=df['CARAVAN']\n",
    "X_train, X_test, Y_train, Y_test = train_test_split(X, Y, test_size=0.5, random_state=42)"
   ]
  },
  {
   "cell_type": "code",
   "execution_count": 44,
   "metadata": {
    "collapsed": true
   },
   "outputs": [],
   "source": [
    "def caravan_modellezo2(model, modelnev):\n",
    "    model.fit(X_train, Y_train)\n",
    "    \n",
    "    result_prob = model.predict_proba(X_test)\n",
    "    dfresults = pd.DataFrame(result_prob, columns=[\"Prob_0\", \"Prob_1\"])\n",
    "    \n",
    "    results = model.predict(X_test)\n",
    "    \n",
    "    acc = accuracy_score(Y_test, results)\n",
    "        \n",
    "    auc = auc_score(Y_test, dfresults[\"Prob_1\"])\n",
    "    \n",
    "    print(\"{} hatékonysága:\\tAcc = {}\\tAUC = {}\".format(modelnev, acc, auc))\n",
    "    \n",
    "    "
   ]
  },
  {
   "cell_type": "code",
   "execution_count": 45,
   "metadata": {
    "scrolled": false
   },
   "outputs": [
    {
     "name": "stdout",
     "output_type": "stream",
     "text": [
      "Logistic Regression hatékonysága:\tAcc = 0.9364479560288561\tAUC = 0.5603299557811663\n"
     ]
    }
   ],
   "source": [
    "caravan_modellezo2(m,\"Logistic Regression\")"
   ]
  },
  {
   "cell_type": "markdown",
   "metadata": {},
   "source": [
    "# 4. feladat - Tobbfajta modellezo kiprobalasa"
   ]
  },
  {
   "cell_type": "markdown",
   "metadata": {},
   "source": [
    "Probaljuk ki a logisztikus regresszio mellett az alabbi modellezoket is:\n",
    "- Dontesi fa\n",
    "- K legközelebbi szomszéd\n",
    "\n",
    "Figyeljunk arra, hogy mindig az osztalyozo eljaras verziokat hasznaljuk. Melyik adja a legjobb eredmenyt?"
   ]
  },
  {
   "cell_type": "markdown",
   "metadata": {},
   "source": [
    "### Döntési fa"
   ]
  },
  {
   "cell_type": "code",
   "execution_count": 46,
   "metadata": {
    "collapsed": true
   },
   "outputs": [],
   "source": [
    "from sklearn import tree"
   ]
  },
  {
   "cell_type": "code",
   "execution_count": 47,
   "metadata": {
    "collapsed": true
   },
   "outputs": [],
   "source": [
    "dt = tree.DecisionTreeClassifier()"
   ]
  },
  {
   "cell_type": "code",
   "execution_count": 48,
   "metadata": {},
   "outputs": [
    {
     "name": "stdout",
     "output_type": "stream",
     "text": [
      "Decision Tree hatékonysága:\tAcc = 0.9354173823428376\tAUC = 0.5887886419067636\n"
     ]
    }
   ],
   "source": [
    "caravan_modellezo2(dt, \"Decision Tree\")"
   ]
  },
  {
   "cell_type": "markdown",
   "metadata": {},
   "source": [
    "### K legközelebbi szomszéd"
   ]
  },
  {
   "cell_type": "code",
   "execution_count": 49,
   "metadata": {
    "collapsed": true
   },
   "outputs": [],
   "source": [
    "from sklearn.neighbors import KNeighborsClassifier"
   ]
  },
  {
   "cell_type": "code",
   "execution_count": 50,
   "metadata": {
    "collapsed": true
   },
   "outputs": [],
   "source": [
    "km = KNeighborsClassifier(n_neighbors=5)"
   ]
  },
  {
   "cell_type": "code",
   "execution_count": 51,
   "metadata": {},
   "outputs": [
    {
     "name": "stdout",
     "output_type": "stream",
     "text": [
      "K Nearest Neighbors hatékonysága:\tAcc = 0.9364479560288561\tAUC = 0.5328577660565922\n"
     ]
    }
   ],
   "source": [
    "caravan_modellezo2(km, \"K Nearest Neighbors\")"
   ]
  },
  {
   "cell_type": "markdown",
   "metadata": {},
   "source": [
    "# 5. feladat - Profitgörbe függvény megértése"
   ]
  },
  {
   "cell_type": "markdown",
   "metadata": {},
   "source": [
    "Értsük meg az alábbi függvényt, ami a keresztértékesítési esetben a profitgörbét rajzolja ki"
   ]
  },
  {
   "cell_type": "code",
   "execution_count": 52,
   "metadata": {
    "collapsed": true
   },
   "outputs": [],
   "source": [
    "def profitgorbe(xdf_valo,xdf_prob_1,profit_talalat,profit_nincs_talalat):\n",
    "    \n",
    "    alld=pd.DataFrame({'Valo':list(xdf_valo),'Tipp_1':list(xdf_prob_1)})\n",
    "    sorted_alld = alld.sort_values(['Tipp_1', 'Valo'], ascending=[0, 1])\n",
    "    sorted_alld.index=range(0,len(xdf_valo))\n",
    "\n",
    "    # NEM PANDAS LOGIKAJU MEGOLDAS = INKABB NE\n",
    "    #sorted_alld[\"Cumulative_Profit\"]=0;\n",
    "   \n",
    "    #if sorted_alld.loc[0,'Valo'] == 0:\n",
    "    #    sorted_alld.loc[0,'Cumulative_Profit']=profit_nincs_talalat\n",
    "    #else:\n",
    "    #    sorted_alld.loc[0,'Cumulative_Profit']=profit_talalat\n",
    "        \n",
    "    #for i in range(1,len(sorted_alld)):\n",
    "    #    if sorted_alld.loc[i,'Valo'] == 0:\n",
    "    #        sorted_alld.loc[i,'Cumulative_Profit']=profit_nincs_talalat+sorted_alld.loc[i-1,'Cumulative_Profit']\n",
    "    #    else:\n",
    "    #        sorted_alld.loc[i,'Cumulative_Profit']=profit_talalat+sorted_alld.loc[i-1,'Cumulative_Profit']\n",
    "    \n",
    "    def profitszamito(x):\n",
    "        if x==1:\n",
    "            return profit_talalat\n",
    "        else:\n",
    "            return profit_nincs_talalat\n",
    "    sorted_alld['Profit']=sorted_alld['Valo'].apply(profitszamito)\n",
    "    sorted_alld['Cumulative_Profit']=sorted_alld['Profit'].cumsum()\n",
    "    maxprofit=sorted_alld['Cumulative_Profit'].max()    \n",
    "    print(\"Max profit= \"+str(  maxprofit ))\n",
    "    \n",
    "\n",
    "    return sorted_alld['Cumulative_Profit'],maxprofit"
   ]
  },
  {
   "cell_type": "code",
   "execution_count": 53,
   "metadata": {
    "scrolled": true
   },
   "outputs": [
    {
     "name": "stdout",
     "output_type": "stream",
     "text": [
      "Max profit= 37900\n"
     ]
    }
   ],
   "source": [
    "gorbe,maxprofit=profitgorbe(Y_test,dfresults['Prob_1'],1000,-100)"
   ]
  },
  {
   "cell_type": "code",
   "execution_count": 54,
   "metadata": {},
   "outputs": [
    {
     "data": {
      "text/plain": [
       "<matplotlib.axes._subplots.AxesSubplot at 0x7ff13157e7b8>"
      ]
     },
     "execution_count": 54,
     "metadata": {},
     "output_type": "execute_result"
    },
    {
     "data": {
      "image/png": "[encoded data removed]",
      "text/plain": [
       "<matplotlib.figure.Figure at 0x7ff177f882b0>"
      ]
     },
     "metadata": {},
     "output_type": "display_data"
    }
   ],
   "source": [
    "gorbe.plot()"
   ]
  },
  {
   "cell_type": "code",
   "execution_count": 55,
   "metadata": {},
   "outputs": [
    {
     "data": {
      "text/plain": [
       "count     2911.000000\n",
       "mean     -7054.792168\n",
       "std      37392.962799\n",
       "min     -87600.000000\n",
       "25%     -35750.000000\n",
       "50%        100.000000\n",
       "75%      26400.000000\n",
       "max      37900.000000\n",
       "Name: Cumulative_Profit, dtype: float64"
      ]
     },
     "execution_count": 55,
     "metadata": {},
     "output_type": "execute_result"
    }
   ],
   "source": [
    "gorbe.describe()"
   ]
  },
  {
   "cell_type": "code",
   "execution_count": 56,
   "metadata": {},
   "outputs": [
    {
     "data": {
      "text/plain": [
       "37900"
      ]
     },
     "execution_count": 56,
     "metadata": {},
     "output_type": "execute_result"
    }
   ],
   "source": [
    "gorbe.max()"
   ]
  },
  {
   "cell_type": "markdown",
   "metadata": {},
   "source": [
    "# 6. Feladat - Mi a legjobb modell, bemeno valtozo osszeallitas\n",
    "\n",
    "Vegyél be, vagy készíts új változókat, összesen 10 darabot, majd vizsgáld meg, melyik modellel jön ki a legjobb profitérték. Érdemes lehet a k legközelebbi szomszéd illetve a döntési fa paramétereit állítani is."
   ]
  },
  {
   "cell_type": "raw",
   "metadata": {},
   "source": [
    "Igazítjuk a caravan modellezőt:"
   ]
  },
  {
   "cell_type": "code",
   "execution_count": 80,
   "metadata": {
    "collapsed": true
   },
   "outputs": [],
   "source": [
    "def caravan_modellezo3(model,modelnev):\n",
    "    \"\"\"A függvény nem csak megjeleníti, hanem kimeneti változóként is kezeli az eredményeket.\n",
    "    \"\"\"\n",
    "    model.fit(X_train,Y_train)\n",
    "    \n",
    "    result_prob = model.predict_proba(X_test)\n",
    "    results = model.predict(X_test)\n",
    "    \n",
    "    acc = accuracy_score(Y_test, results)\n",
    "    \n",
    "    dfresults = pd.DataFrame(result_prob, columns=[\"Prob_0\",\"Prob_1\"])\n",
    "    \n",
    "    auc = auc_score(Y_test, dfresults[\"Prob_1\"])\n",
    "    \n",
    "    print(modelnev + \" hatekonysage: \\tAcc=\"+str(acc)+\"\\tAUC=\"+str(auc))\n",
    "    \n",
    "    print(\"\\nPrediction probabilities (dfresults):\\n{}\".format(dfresults))\n",
    "    return dfresults"
   ]
  },
  {
   "cell_type": "raw",
   "metadata": {},
   "source": [
    "Átalakítjuk a profitgörbe függvényt:"
   ]
  },
  {
   "cell_type": "raw",
   "metadata": {
    "collapsed": true
   },
   "source": [
    "def profitgorbe(xdf_valo,xdf_prob_1,profit_talalat,profit_nincs_talalat):\n",
    "    \n",
    "    alld = pd.DataFrame({'Valo':list(xdf_valo),'Tipp_1':list(xdf_prob_1)})\n",
    "    sorted_alld = alld.sort_values(['Tipp_1', 'Valo'], ascending=[0, 1])\n",
    "    sorted_alld.index = range(0,len(xdf_valo))\n",
    "    \n",
    "    def profitszamito(x):\n",
    "        if x==1:\n",
    "            return profit_talalat\n",
    "        else:\n",
    "            return profit_nincs_talalat\n",
    "        \n",
    "    sorted_alld['Profit'] = sorted_alld['Valo'].apply(profitszamito)\n",
    "    sorted_alld['Cumulative_Profit'] = sorted_alld['Profit'].cumsum()\n",
    "    \n",
    "    maxprofit = sorted_alld['Cumulative_Profit'].max()    \n",
    "    print(\"Max profit= \"+str(  maxprofit ))\n",
    "\n",
    "    return sorted_alld['Cumulative_Profit'],maxprofit"
   ]
  },
  {
   "cell_type": "markdown",
   "metadata": {},
   "source": [
    "##  6.1 Random values"
   ]
  },
  {
   "cell_type": "code",
   "execution_count": 81,
   "metadata": {},
   "outputs": [
    {
     "data": {
      "text/plain": [
       "Index(['MOSTYPE', 'MAANTHUI', 'MGEMOMV', 'MGEMLEEF', 'MOSHOOFD', 'MGODRK',\n",
       "       'MGODPR', 'MGODOV', 'MGODGE', 'MRELGE', 'MRELSA', 'MRELOV', 'MFALLEEN',\n",
       "       'MFGEKIND', 'MFWEKIND', 'MOPLHOOG', 'MOPLMIDD', 'MOPLLAAG', 'MBERHOOG',\n",
       "       'MBERZELF', 'MBERBOER', 'MBERMIDD', 'MBERARBG', 'MBERARBO', 'MSKA',\n",
       "       'MSKB1', 'MSKB2', 'MSKC', 'MSKD', 'MHHUUR', 'MHKOOP', 'MAUT1', 'MAUT2',\n",
       "       'MAUT0', 'MZFONDS', 'MZPART', 'MINKM30', 'MINK3045', 'MINK4575',\n",
       "       'MINK7512', 'MINK123M', 'MINKGEM', 'MKOOPKLA', 'PWAPART', 'PWABEDR',\n",
       "       'PWALAND', 'PPERSAUT', 'PBESAUT', 'PMOTSCO', 'PVRAAUT', 'PAANHANG',\n",
       "       'PTRACTOR', 'PWERKT', 'PBROM', 'PLEVEN', 'PPERSONG', 'PGEZONG',\n",
       "       'PWAOREG', 'PBRAND', 'PZEILPL', 'PPLEZIER', 'PFIETS', 'PINBOED',\n",
       "       'PBYSTAND', 'AWAPART', 'AWABEDR', 'AWALAND', 'APERSAUT', 'ABESAUT',\n",
       "       'AMOTSCO', 'AVRAAUT', 'AAANHANG', 'ATRACTOR', 'AWERKT', 'ABROM',\n",
       "       'ALEVEN', 'APERSONG', 'AGEZONG', 'AWAOREG', 'ABRAND', 'AZEILPL',\n",
       "       'APLEZIER', 'AFIETS', 'AINBOED', 'ABYSTAND', 'CARAVAN'],\n",
       "      dtype='object')"
      ]
     },
     "execution_count": 81,
     "metadata": {},
     "output_type": "execute_result"
    }
   ],
   "source": [
    "df.columns"
   ]
  },
  {
   "cell_type": "code",
   "execution_count": 82,
   "metadata": {
    "collapsed": true
   },
   "outputs": [],
   "source": [
    "cols = pd.Series(df.columns).sample(10)"
   ]
  },
  {
   "cell_type": "code",
   "execution_count": 83,
   "metadata": {},
   "outputs": [],
   "source": [
    "#X=df[['MOSTYPE', 'MOSHOOFD', 'MGEMOMV', 'MKOOPKLA', 'MGEMLEEF', 'MSKA', 'MSKB1', 'MSKB2', 'MSKC', 'MSKD']]\n",
    "X=df[['MOSTYPE', 'MOSHOOFD', 'MGEMOMV']]\n",
    "Y=df['CARAVAN']\n",
    "X_train, X_test, Y_train, Y_test = train_test_split(X, Y, test_size=0.5, random_state=42)"
   ]
  },
  {
   "cell_type": "markdown",
   "metadata": {},
   "source": [
    "### Logisztikus regresszió"
   ]
  },
  {
   "cell_type": "code",
   "execution_count": 84,
   "metadata": {
    "scrolled": false
   },
   "outputs": [
    {
     "name": "stdout",
     "output_type": "stream",
     "text": [
      "Logistic Regreesion hatekonysage: \tAcc=0.9364479560288561\tAUC=0.5603299557811663\n",
      "\n",
      "Prediction probabilities (dfresults):\n",
      "        Prob_0    Prob_1\n",
      "0     0.963013  0.036987\n",
      "1     0.955801  0.044199\n",
      "2     0.957279  0.042721\n",
      "3     0.966695  0.033305\n",
      "4     0.957325  0.042675\n",
      "5     0.964212  0.035788\n",
      "6     0.915065  0.084935\n",
      "7     0.943676  0.056324\n",
      "8     0.958799  0.041201\n",
      "9     0.915065  0.084935\n",
      "10    0.955801  0.044199\n",
      "11    0.968972  0.031028\n",
      "12    0.915240  0.084760\n",
      "13    0.954333  0.045667\n",
      "14    0.957325  0.042675\n",
      "15    0.961684  0.038316\n",
      "16    0.960223  0.039777\n",
      "17    0.966695  0.033305\n",
      "18    0.954333  0.045667\n",
      "19    0.968972  0.031028\n",
      "20    0.960223  0.039777\n",
      "21    0.962925  0.037075\n",
      "22    0.960223  0.039777\n",
      "23    0.971071  0.028929\n",
      "24    0.943676  0.056324\n",
      "25    0.917957  0.082043\n",
      "26    0.962925  0.037075\n",
      "27    0.943616  0.056384\n",
      "28    0.960223  0.039777\n",
      "29    0.917872  0.082128\n",
      "...        ...       ...\n",
      "2881  0.962965  0.037035\n",
      "2882  0.954333  0.045667\n",
      "2883  0.966695  0.033305\n",
      "2884  0.962925  0.037075\n",
      "2885  0.923300  0.076700\n",
      "2886  0.917872  0.082128\n",
      "2887  0.945594  0.054406\n",
      "2888  0.961684  0.038316\n",
      "2889  0.933124  0.066876\n",
      "2890  0.896344  0.103656\n",
      "2891  0.918042  0.081958\n",
      "2892  0.962925  0.037075\n",
      "2893  0.939595  0.060405\n",
      "2894  0.960223  0.039777\n",
      "2895  0.960223  0.039777\n",
      "2896  0.909187  0.090813\n",
      "2897  0.964251  0.035749\n",
      "2898  0.961642  0.038358\n",
      "2899  0.971071  0.028929\n",
      "2900  0.960223  0.039777\n",
      "2901  0.970056  0.029944\n",
      "2902  0.960266  0.039734\n",
      "2903  0.967891  0.032109\n",
      "2904  0.961635  0.038365\n",
      "2905  0.954333  0.045667\n",
      "2906  0.954226  0.045774\n",
      "2907  0.930884  0.069116\n",
      "2908  0.896344  0.103656\n",
      "2909  0.920663  0.079337\n",
      "2910  0.918042  0.081958\n",
      "\n",
      "[2911 rows x 2 columns]\n"
     ]
    }
   ],
   "source": [
    "logregres = caravan_modellezo3(m, \"Logistic Regreesion\")"
   ]
  },
  {
   "cell_type": "code",
   "execution_count": 85,
   "metadata": {
    "scrolled": true
   },
   "outputs": [
    {
     "name": "stdout",
     "output_type": "stream",
     "text": [
      "Max profit= 15200\n"
     ]
    }
   ],
   "source": [
    "gorbe,maxprofit=profitgorbe(Y_test,logregres['Prob_1'],1000,-100)"
   ]
  },
  {
   "cell_type": "markdown",
   "metadata": {},
   "source": [
    "### Döntési fa"
   ]
  },
  {
   "cell_type": "code",
   "execution_count": 70,
   "metadata": {},
   "outputs": [
    {
     "name": "stdout",
     "output_type": "stream",
     "text": [
      "Decision Tree hatekonysage: \tAcc=0.9354173823428376\tAUC=0.5887886419067636\n",
      "\n",
      "Prediction probabilities (dfresults):\n",
      "\n"
     ]
    }
   ],
   "source": [
    "dectreeres = caravan_modellezo3(dt, \"Decision Tree\")"
   ]
  },
  {
   "cell_type": "code",
   "execution_count": 71,
   "metadata": {},
   "outputs": [
    {
     "name": "stdout",
     "output_type": "stream",
     "text": [
      "Max profit= 8700\n"
     ]
    }
   ],
   "source": [
    "gorbe, maxprofit = profitgorbe(Y_test,dectreeres['Prob_1'],1000,-100)"
   ]
  },
  {
   "cell_type": "markdown",
   "metadata": {},
   "source": [
    "### KNN"
   ]
  },
  {
   "cell_type": "code",
   "execution_count": 72,
   "metadata": {},
   "outputs": [
    {
     "name": "stdout",
     "output_type": "stream",
     "text": [
      "K Nearest Neighbors hatekonysage: \tAcc=0.9364479560288561\tAUC=0.5328577660565922\n",
      "\n",
      "Prediction probabilities (dfresults):\n",
      "\n"
     ]
    }
   ],
   "source": [
    "knnres = caravan_modellezo3(km, \"K Nearest Neighbors\")"
   ]
  },
  {
   "cell_type": "code",
   "execution_count": 73,
   "metadata": {},
   "outputs": [
    {
     "name": "stdout",
     "output_type": "stream",
     "text": [
      "Max profit= 700\n"
     ]
    }
   ],
   "source": [
    "gorbe,maxprofit=profitgorbe(Y_test,knnres['Prob_1'],1000,-100)"
   ]
  },
  {
   "cell_type": "markdown",
   "metadata": {},
   "source": [
    "# 7. Feladat - Eredmények összefoglalása\n",
    "\n",
    "Összefoglalásként írd meg:\n",
    "- Írd fel a neptunkódod, neved (opcionális)\n",
    "- Milyen modellel\n",
    "- Annak milyen paraméterbeállításával\n",
    "- Milyen bemeneti változókkal érted el a legjobb eredményt\n",
    "- Mutasd be az auc értéket és a profitgörbe maximumát is\n",
    "- Irasd ki a profitgörbét mégegyszer"
   ]
  },
  {
   "cell_type": "markdown",
   "metadata": {
    "collapsed": true
   },
   "source": [
    "Novoszáth András"
   ]
  },
  {
   "cell_type": "markdown",
   "metadata": {
    "collapsed": true
   },
   "source": []
  }
 ],
 "metadata": {
  "kernelspec": {
   "display_name": "Python 3",
   "language": "python",
   "name": "python3"
  },
  "language_info": {
   "codemirror_mode": {
    "name": "ipython",
    "version": 3
   },
   "file_extension": ".py",
   "mimetype": "text/x-python",
   "name": "python",
   "nbconvert_exporter": "python",
   "pygments_lexer": "ipython3",
   "version": "3.6.4"
  }
 },
 "nbformat": 4,
 "nbformat_minor": 1
}
