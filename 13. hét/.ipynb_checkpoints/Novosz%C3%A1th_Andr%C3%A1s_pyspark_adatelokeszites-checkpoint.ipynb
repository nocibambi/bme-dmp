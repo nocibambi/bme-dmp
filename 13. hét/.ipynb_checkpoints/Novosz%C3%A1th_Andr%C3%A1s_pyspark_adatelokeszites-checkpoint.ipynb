{
 "cells": [
  {
   "cell_type": "markdown",
   "metadata": {},
   "source": [
    "# SPARK - adatelokeszitesi szakasz"
   ]
  },
  {
   "cell_type": "code",
   "execution_count": 1,
   "metadata": {
    "collapsed": true
   },
   "outputs": [],
   "source": [
    "import json\n",
    "import re\n",
    "import string\n",
    "\n",
    "import pandas as pd\n",
    "import numpy as np"
   ]
  },
  {
   "cell_type": "code",
   "execution_count": 2,
   "metadata": {
    "collapsed": true
   },
   "outputs": [],
   "source": [
    "sc = SparkContext.getOrCreate()"
   ]
  },
  {
   "cell_type": "code",
   "execution_count": null,
   "metadata": {
    "collapsed": true
   },
   "outputs": [],
   "source": []
  },
  {
   "cell_type": "code",
   "execution_count": 3,
   "metadata": {
    "collapsed": true
   },
   "outputs": [],
   "source": [
    "# Itt a \"sc\" alapbol letezik, ez az ugynevezett SparkContext\n",
    "df=sc.textFile(\"../data/jokecomments2014.txt\").repartition(8)"
   ]
  },
  {
   "cell_type": "markdown",
   "metadata": {},
   "source": [
    "Ha rossz fájlnévvel futtatom le, akkor nem ad errort. Csak megjegyzi a feladatot, de nem futtatja le."
   ]
  },
  {
   "cell_type": "code",
   "execution_count": 4,
   "metadata": {
    "collapsed": true
   },
   "outputs": [],
   "source": [
    "#(1) Nezzunk bele - take(2) ket sort ad vissza belole"
   ]
  },
  {
   "cell_type": "code",
   "execution_count": 4,
   "metadata": {},
   "outputs": [
    {
     "data": {
      "text/plain": [
       "['(u\"Why can\\'t Ray Charles see his friends?\\\\n\\\\nBecause he\\'s married.\", 18, u\\'1388584109\\', u\\'t1_ceembm2\\', u\\'t1_ceeqkew\\', u\\'t3_1u4u78\\')',\n",
       " \"(u'I am laughing too (literally).\\\\n\\\\nNow onto the puns:\\\\n\\\\nThis joke blew me away!', 11, u'1388587512', u't1_ceeh9ix', u't1_ceer4bz', u't3_1u4eex')\"]"
      ]
     },
     "execution_count": 4,
     "metadata": {},
     "output_type": "execute_result"
    }
   ],
   "source": [
    "df.take(2)"
   ]
  },
  {
   "cell_type": "markdown",
   "metadata": {},
   "source": [
    "Ez nem 'head' mivel elosztott forrásnál az első sor nehez értelmezhető.\n",
    "\n",
    "A taket itt arra is használjuk, hogy az esetleges bugok forrását könnyebben felismerjük (a spark nem nagyon túl felhasználóbarát az error jelentéseiben).\n",
    "\n",
    "Az eredménye nem lista, hanem tuple (fix elemszámú, nem módosítható lista)."
   ]
  },
  {
   "cell_type": "markdown",
   "metadata": {
    "collapsed": true
   },
   "source": [
    "A map függvény egy új RDD-t fog létrehozni."
   ]
  },
  {
   "cell_type": "code",
   "execution_count": 6,
   "metadata": {
    "collapsed": true
   },
   "outputs": [],
   "source": [
    "#(2) Egy kicsit rendbe kell kapni az adatokat, DATA PREPARATION\n",
    "#Ket lepesben hajtjuk vegre, itt a kulcs a \"map\" fuggveny"
   ]
  },
  {
   "cell_type": "code",
   "execution_count": 9,
   "metadata": {
    "scrolled": true
   },
   "outputs": [
    {
     "data": {
      "text/plain": [
       "[(\"Why can't Ray Charles see his friends?\\n\\nBecause he's married.\",\n",
       "  18,\n",
       "  '1388584109',\n",
       "  't1_ceembm2',\n",
       "  't1_ceeqkew',\n",
       "  't3_1u4u78'),\n",
       " ('I am laughing too (literally).\\n\\nNow onto the puns:\\n\\nThis joke blew me away!',\n",
       "  11,\n",
       "  '1388587512',\n",
       "  't1_ceeh9ix',\n",
       "  't1_ceer4bz',\n",
       "  't3_1u4eex')]"
      ]
     },
     "execution_count": 9,
     "metadata": {},
     "output_type": "execute_result"
    }
   ],
   "source": [
    "dfALMA=df.map(lambda x: eval(x))\n",
    "dfALMA.take(2)"
   ]
  },
  {
   "cell_type": "markdown",
   "metadata": {},
   "source": [
    "Egy sor egy ötösből tud álllni."
   ]
  },
  {
   "cell_type": "code",
   "execution_count": 10,
   "metadata": {
    "collapsed": true
   },
   "outputs": [],
   "source": [
    "#Kiszedjuk a furcsa karaktereket, kisbetusitunk, kiszedjuk az irasjeleket"
   ]
  },
  {
   "cell_type": "code",
   "execution_count": 41,
   "metadata": {},
   "outputs": [
    {
     "data": {
      "text/plain": [
       "[('why cant ray charles see his friends  because hes married', 18),\n",
       " ('i am laughing too literally  now onto the puns  this joke blew me away',\n",
       "  11)]"
      ]
     },
     "execution_count": 41,
     "metadata": {},
     "output_type": "execute_result"
    }
   ],
   "source": [
    "def string_ok(x):\n",
    "    s=x\n",
    "    re.sub(r'\\W+', '', s)\n",
    "    s=s.replace('\\n',\" \")\n",
    "    s=s.replace('\\t',\" \")\n",
    "    s=s.replace('\\r',\" \")\n",
    "    exclude = set(string.punctuation)\n",
    "    s2 = ''.join(ch for ch in s if ch not in exclude)\n",
    "    s2=s2.lower()\n",
    "    s2=s2.strip()\n",
    "    return s2\n",
    "\n",
    "dfBANAN=dfALMA.map(lambda x: (string_ok(x[0]),x[1]))\n",
    "dfBANAN.take(2)"
   ]
  },
  {
   "cell_type": "code",
   "execution_count": null,
   "metadata": {
    "collapsed": true
   },
   "outputs": [],
   "source": []
  },
  {
   "cell_type": "code",
   "execution_count": 42,
   "metadata": {
    "collapsed": true
   },
   "outputs": [],
   "source": [
    "#(3) Nezzunk nehany lehuzott kommentet. Irjunk ki nehanyat, aminek \n",
    "# negativ a score-ja\n",
    "#\n",
    "# EHHEZ: filter fuggveny, benne fuggveny, ami logikai erteket ad vissza"
   ]
  },
  {
   "cell_type": "code",
   "execution_count": 43,
   "metadata": {},
   "outputs": [
    {
     "data": {
      "text/plain": [
       "[('this joke sucks', -19),\n",
       " ('deleted', -18),\n",
       " ('which came first the chicken or the egg', -15),\n",
       " ('deleted', -36),\n",
       " ('americans build a tower in two week plane take it down in two minutes',\n",
       "  -20)]"
      ]
     },
     "execution_count": 43,
     "metadata": {},
     "output_type": "execute_result"
    }
   ],
   "source": [
    "dfBANAN.filter(lambda x: x[1] < 0).take(5)"
   ]
  },
  {
   "cell_type": "code",
   "execution_count": 44,
   "metadata": {},
   "outputs": [
    {
     "data": {
      "text/plain": [
       "44015"
      ]
     },
     "execution_count": 44,
     "metadata": {},
     "output_type": "execute_result"
    }
   ],
   "source": [
    "dfBANAN.count()"
   ]
  },
  {
   "cell_type": "code",
   "execution_count": null,
   "metadata": {
    "collapsed": true
   },
   "outputs": [],
   "source": []
  },
  {
   "cell_type": "code",
   "execution_count": null,
   "metadata": {
    "collapsed": true
   },
   "outputs": [],
   "source": []
  },
  {
   "cell_type": "code",
   "execution_count": 45,
   "metadata": {
    "collapsed": true
   },
   "outputs": [],
   "source": [
    "#(4) Mi lenne, ha egy sor inkabb egy szo lenne. Egy olyan map fuggveny\n",
    "# kell, ami nem egy sort general ujra, hanem akarhanyat (0... sok)\n",
    "# ez a flatMap\n",
    "#\n",
    "# Itt egy pelda, ertelmezzuk"
   ]
  },
  {
   "cell_type": "code",
   "execution_count": 46,
   "metadata": {},
   "outputs": [
    {
     "data": {
      "text/plain": [
       "[('why', (0, 18, 1)),\n",
       " ('cant', (0, 18, 1)),\n",
       " ('ray', (0, 18, 1)),\n",
       " ('charles', (0, 18, 1)),\n",
       " ('see', (0, 18, 1)),\n",
       " ('his', (0, 18, 1))]"
      ]
     },
     "execution_count": 46,
     "metadata": {},
     "output_type": "execute_result"
    }
   ],
   "source": [
    "def szo_es_score(x):\n",
    "    result=[]\n",
    "    for i in x[0].split(\" \"):\n",
    "        if x[1]<0:\n",
    "            result.append((i,(x[1],0,1))) # Ha negatív, az első elem a rate\n",
    "        else:\n",
    "            result.append((i,(0,x[1],1))) # Ha pozitív, a második elem a rate\n",
    "    return result\n",
    "\n",
    "dfCITROM=dfBANAN.flatMap(szo_es_score)\n",
    "\n",
    "dfCITROM.take(6)"
   ]
  },
  {
   "cell_type": "code",
   "execution_count": 47,
   "metadata": {},
   "outputs": [
    {
     "data": {
      "text/plain": [
       "846431"
      ]
     },
     "execution_count": 47,
     "metadata": {},
     "output_type": "execute_result"
    }
   ],
   "source": [
    "dfCITROM.count()"
   ]
  },
  {
   "cell_type": "code",
   "execution_count": 48,
   "metadata": {},
   "outputs": [
    {
     "data": {
      "text/plain": [
       "[('this', (-19, 0, 1)),\n",
       " ('joke', (-19, 0, 1)),\n",
       " ('sucks', (-19, 0, 1)),\n",
       " ('deleted', (-18, 0, 1)),\n",
       " ('which', (-15, 0, 1))]"
      ]
     },
     "execution_count": 48,
     "metadata": {},
     "output_type": "execute_result"
    }
   ],
   "source": [
    "dfBANAN.filter(lambda x: x[1] < 0).flatMap(szo_es_score).take(5)"
   ]
  },
  {
   "cell_type": "code",
   "execution_count": 49,
   "metadata": {
    "collapsed": true
   },
   "outputs": [],
   "source": [
    "#(5) Es ha van, van reduce is. Leggyakrabban a reduceByKey-t hasznaljuk.\n"
   ]
  },
  {
   "cell_type": "markdown",
   "metadata": {
    "collapsed": true
   },
   "source": [
    "reduceByKey(f):\n",
    "\n",
    "(k, v1)\n",
    "(k, v2)\n",
    "\n",
    "ezekbol csinal egzy k, v3-at\n",
    "\n",
    "v1, v2 -> v3\n",
    "\n",
    "(a, b, c), (d, e, f) -> (a+d, b+e, c+f)"
   ]
  },
  {
   "cell_type": "code",
   "execution_count": 50,
   "metadata": {
    "collapsed": true
   },
   "outputs": [],
   "source": [
    "def okos_osszeado(x, y):\n",
    "    return (x[0] + y[0], x[1] + y[1], x[2] + y[2])"
   ]
  },
  {
   "cell_type": "code",
   "execution_count": 51,
   "metadata": {},
   "outputs": [
    {
     "data": {
      "text/plain": [
       "[('why', (-4649, 108242, 1680)),\n",
       " ('married', (-283, 21829, 212)),\n",
       " ('i', (-41799, 1306044, 17357)),\n",
       " ('now', (-2760, 101705, 1333)),\n",
       " ('blew', (-15, 4765, 40)),\n",
       " ('rekt', (-171, 2195, 51)),\n",
       " ('handcuffing', (0, 11, 1)),\n",
       " ('edit', (-6771, 78734, 737)),\n",
       " ('im', (-9203, 204081, 2646)),\n",
       " ('quality', (-53, 4843, 49))]"
      ]
     },
     "execution_count": 51,
     "metadata": {},
     "output_type": "execute_result"
    }
   ],
   "source": [
    "dfDIO = dfCITROM.reduceByKey(okos_osszeado).filter(lambda x: x[0] != \"\")\n",
    "dfDIO.take(10)"
   ]
  },
  {
   "cell_type": "code",
   "execution_count": 52,
   "metadata": {
    "collapsed": true
   },
   "outputs": [],
   "source": [
    "#(6) Rendezetten is lekerdezhetunk: itt egy pelda. Elozo eredmenyekbol\n",
    "#kiindulva nezzuk meg, mi szedte ossze a legtobb pozitiv es legtobb \n",
    "#negativ pontot"
   ]
  },
  {
   "cell_type": "code",
   "execution_count": 53,
   "metadata": {},
   "outputs": [
    {
     "data": {
      "text/plain": [
       "[('as', (0, 6764, 1)),\n",
       " ('a', (0, 6764, 1)),\n",
       " ('dad', (0, 6764, 1)),\n",
       " ('and', (0, 6764, 1)),\n",
       " ('a', (0, 6764, 1))]"
      ]
     },
     "execution_count": 53,
     "metadata": {},
     "output_type": "execute_result"
    }
   ],
   "source": [
    "dfCITROM.takeOrdered(5,key=lambda x: -x[1][1])"
   ]
  },
  {
   "cell_type": "code",
   "execution_count": 65,
   "metadata": {},
   "outputs": [
    {
     "data": {
      "text/plain": [
       "[('the', (-72481, 2889723, 37032)),\n",
       " ('a', (-51889, 1888037, 24587)),\n",
       " ('to', (-46326, 1491265, 18440)),\n",
       " ('and', (-35400, 1333927, 16443)),\n",
       " ('i', (-41799, 1306044, 17357))]"
      ]
     },
     "execution_count": 65,
     "metadata": {},
     "output_type": "execute_result"
    }
   ],
   "source": [
    "dfDIO.takeOrdered(5,key=lambda x: -x[1][1])"
   ]
  },
  {
   "cell_type": "code",
   "execution_count": 69,
   "metadata": {},
   "outputs": [
    {
     "data": {
      "text/plain": [
       "[('why', 23.27806451612903, 1680),\n",
       " ('married', 76.86619718309859, 212),\n",
       " ('i', 31.245095693779906, 17357),\n",
       " ('now', 36.83665338645418, 1333),\n",
       " ('blew', 297.875, 40),\n",
       " ('rekt', 12.767441860465116, 51),\n",
       " ('handcuffing', 12.0, 1),\n",
       " ('edit', 11.626550502067335, 737),\n",
       " ('im', 22.173185571490656, 2646),\n",
       " ('quality', 89.70370370370371, 49)]"
      ]
     },
     "execution_count": 69,
     "metadata": {},
     "output_type": "execute_result"
    }
   ],
   "source": [
    "def okos_score(x):\n",
    "    return (x[0], (x[1][1] + 1) / (-1 * x[1][0] + 1), x[1][2])\n",
    "\n",
    "dfEPER = dfDIO.map(okos_score)\n",
    "dfEPER.take(10)"
   ]
  },
  {
   "cell_type": "code",
   "execution_count": 70,
   "metadata": {
    "scrolled": true
   },
   "outputs": [
    {
     "data": {
      "text/plain": [
       "[('bruhs', 0.00130718954248366, 3),\n",
       " ('edit3', 0.001455604075691412, 3),\n",
       " ('willingly', 0.0014858841010401188, 2),\n",
       " ('edit4look', 0.001564945226917058, 1),\n",
       " ('flexed', 0.001564945226917058, 1),\n",
       " ('httpwwwredditcomwikireddiquette', 0.0016260162601626016, 2),\n",
       " ('inflict', 0.002785515320334262, 1),\n",
       " ('incessant', 0.002785515320334262, 1),\n",
       " ('shitlords', 0.0034482758620689655, 3),\n",
       " ('regenerate', 0.0034965034965034965, 2)]"
      ]
     },
     "execution_count": 70,
     "metadata": {},
     "output_type": "execute_result"
    }
   ],
   "source": [
    "dfEPER.takeOrdered(10, key=lambda x: x[1])"
   ]
  },
  {
   "cell_type": "code",
   "execution_count": null,
   "metadata": {
    "collapsed": true
   },
   "outputs": [],
   "source": [
    "dfFUGE = dfEPER.filter(lambda x: x[2] > 300)\n",
    "dfFUGE.takeOrdered(10, key=lambda x: -x[1])"
   ]
  },
  {
   "cell_type": "markdown",
   "metadata": {
    "collapsed": true
   },
   "source": [
    "a 'modellezes' notebookban folytatodik\n",
    "\n",
    "collect(): veszi az összes eredményt (ami ügye it elég sok lehet)"
   ]
  },
  {
   "cell_type": "code",
   "execution_count": 25,
   "metadata": {
    "collapsed": true
   },
   "outputs": [],
   "source": [
    "#(7) Gyartsunk egy aranyszamot a pozitiv, negativ aranyok modellezesere"
   ]
  },
  {
   "cell_type": "code",
   "execution_count": null,
   "metadata": {
    "collapsed": true
   },
   "outputs": [],
   "source": []
  },
  {
   "cell_type": "code",
   "execution_count": null,
   "metadata": {
    "collapsed": true
   },
   "outputs": [],
   "source": []
  },
  {
   "cell_type": "code",
   "execution_count": null,
   "metadata": {
    "collapsed": true
   },
   "outputs": [],
   "source": []
  },
  {
   "cell_type": "code",
   "execution_count": 26,
   "metadata": {
    "collapsed": true
   },
   "outputs": [],
   "source": [
    "#(8) Keressuk ki azon szavakat, amik legalabb 300-szor elofordultak\n",
    "# es nagyon extrem pozitiv vagy negativ komment statisztikajuk van"
   ]
  },
  {
   "cell_type": "code",
   "execution_count": null,
   "metadata": {
    "collapsed": true
   },
   "outputs": [],
   "source": []
  },
  {
   "cell_type": "code",
   "execution_count": null,
   "metadata": {
    "collapsed": true
   },
   "outputs": [],
   "source": []
  },
  {
   "cell_type": "code",
   "execution_count": null,
   "metadata": {
    "collapsed": true
   },
   "outputs": [],
   "source": []
  },
  {
   "cell_type": "code",
   "execution_count": null,
   "metadata": {
    "collapsed": true
   },
   "outputs": [],
   "source": []
  },
  {
   "cell_type": "code",
   "execution_count": null,
   "metadata": {
    "collapsed": true
   },
   "outputs": [],
   "source": []
  },
  {
   "cell_type": "code",
   "execution_count": null,
   "metadata": {
    "collapsed": true
   },
   "outputs": [],
   "source": []
  }
 ],
 "metadata": {
  "kernelspec": {
   "display_name": "Spark 2.2.0 (Python 3.6)",
   "language": "python",
   "name": "spark"
  },
  "language_info": {
   "codemirror_mode": {
    "name": "ipython",
    "version": 3
   },
   "file_extension": ".py",
   "mimetype": "text/x-python",
   "name": "python",
   "nbconvert_exporter": "python",
   "pygments_lexer": "ipython3",
   "version": "3.6.2"
  }
 },
 "nbformat": 4,
 "nbformat_minor": 1
}
