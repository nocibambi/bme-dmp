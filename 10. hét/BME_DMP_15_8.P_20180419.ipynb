{
 "cells": [
  {
   "cell_type": "markdown",
   "metadata": {},
   "source": [
    "# Tranzakciós adat\n",
    "A 'rendes' idősorhoz képest annyival bonyolultabb, hogy nem rendszeres időközönként, hanem eseményenként kapjuk az adatot.\n"
   ]
  },
  {
   "cell_type": "markdown",
   "metadata": {},
   "source": [
    "## Tesco törzsvásárló adat\n",
    "\n",
    "- Aki az év első és utolsó hónapjában kezdeményezett tranzakciót\n",
    "- Fakultatív házi: kitalálni, hogy milyen országnak az adatai ezek (nemzeti ünnepek alapján)\n",
    "- 'day': a 2010 Április 1-től számított napok száma"
   ]
  },
  {
   "cell_type": "markdown",
   "metadata": {},
   "source": [
    "## Regressziós feladat\n",
    "\n",
    "A 200-adik nappal kezdődő hét napban összesen mennyit fog költeni a vásárló.\n",
    "\n",
    "Lehetséges modellek:\n",
    "- Lineáris regresszió\n",
    "- K legközelebbi szomszéd\n",
    "- Döntési fa\n",
    "- Kombinált modellek: random boosting"
   ]
  },
  {
   "cell_type": "markdown",
   "metadata": {},
   "source": [
    "Lehetséges jó módszerek a becslésre:\n",
    "- előző hét költése\n",
    "- előző hét/hónap/év azonos időszaka (hónapra megnézték, nem működik ennél a példánál, illetve nincs adat)\n",
    "- addigi teljes forgalom\n",
    "- látogatások száma\n",
    "- teljesen forgalom: átlagos nap/átlagos vásárlás\n",
    "- napok eloszlása"
   ]
  },
  {
   "cell_type": "code",
   "execution_count": 1,
   "metadata": {
    "collapsed": true
   },
   "outputs": [],
   "source": [
    "import pandas as pd\n",
    "import numpy as np\n",
    "import matplotlib.pyplot as plt\n",
    "%matplotlib inline"
   ]
  },
  {
   "cell_type": "code",
   "execution_count": 2,
   "metadata": {
    "collapsed": true
   },
   "outputs": [],
   "source": [
    "df = pd.read_csv(\"../data/DataSet_Tesco5000_withDaynum.csv\")"
   ]
  },
  {
   "cell_type": "code",
   "execution_count": 15,
   "metadata": {},
   "outputs": [
    {
     "data": {
      "text/plain": [
       "(596733, 4)"
      ]
     },
     "execution_count": 15,
     "metadata": {},
     "output_type": "execute_result"
    }
   ],
   "source": [
    "df.shape"
   ]
  },
  {
   "cell_type": "code",
   "execution_count": 4,
   "metadata": {},
   "outputs": [
    {
     "data": {
      "text/html": [
       "<div>\n",
       "<style scoped>\n",
       "    .dataframe tbody tr th:only-of-type {\n",
       "        vertical-align: middle;\n",
       "    }\n",
       "\n",
       "    .dataframe tbody tr th {\n",
       "        vertical-align: top;\n",
       "    }\n",
       "\n",
       "    .dataframe thead th {\n",
       "        text-align: right;\n",
       "    }\n",
       "</style>\n",
       "<table border=\"1\" class=\"dataframe\">\n",
       "  <thead>\n",
       "    <tr style=\"text-align: right;\">\n",
       "      <th></th>\n",
       "      <th>customer_id</th>\n",
       "      <th>visit_date</th>\n",
       "      <th>visit_spend</th>\n",
       "      <th>daynum</th>\n",
       "    </tr>\n",
       "  </thead>\n",
       "  <tbody>\n",
       "    <tr>\n",
       "      <th>0</th>\n",
       "      <td>2</td>\n",
       "      <td>2010-04-01</td>\n",
       "      <td>5.97</td>\n",
       "      <td>0</td>\n",
       "    </tr>\n",
       "    <tr>\n",
       "      <th>1</th>\n",
       "      <td>2</td>\n",
       "      <td>2010-04-06</td>\n",
       "      <td>12.71</td>\n",
       "      <td>5</td>\n",
       "    </tr>\n",
       "    <tr>\n",
       "      <th>2</th>\n",
       "      <td>2</td>\n",
       "      <td>2010-04-07</td>\n",
       "      <td>34.52</td>\n",
       "      <td>6</td>\n",
       "    </tr>\n",
       "    <tr>\n",
       "      <th>3</th>\n",
       "      <td>2</td>\n",
       "      <td>2010-04-12</td>\n",
       "      <td>7.89</td>\n",
       "      <td>11</td>\n",
       "    </tr>\n",
       "    <tr>\n",
       "      <th>4</th>\n",
       "      <td>2</td>\n",
       "      <td>2010-04-14</td>\n",
       "      <td>17.17</td>\n",
       "      <td>13</td>\n",
       "    </tr>\n",
       "  </tbody>\n",
       "</table>\n",
       "</div>"
      ],
      "text/plain": [
       "   customer_id  visit_date  visit_spend  daynum\n",
       "0            2  2010-04-01         5.97       0\n",
       "1            2  2010-04-06        12.71       5\n",
       "2            2  2010-04-07        34.52       6\n",
       "3            2  2010-04-12         7.89      11\n",
       "4            2  2010-04-14        17.17      13"
      ]
     },
     "execution_count": 4,
     "metadata": {},
     "output_type": "execute_result"
    }
   ],
   "source": [
    "df.head()"
   ]
  },
  {
   "cell_type": "code",
   "execution_count": 17,
   "metadata": {
    "collapsed": true
   },
   "outputs": [],
   "source": [
    "def idoablak_statisztika(nap_tol,nap_ig,ujnev,aggreg_fuggveny=np.mean,valtozo=\"visit_spend\"):\n",
    "    \"\"\"\n",
    "    Két nap közötti értékekre aggregál a customer id alapján.\n",
    "    \"\"\"\n",
    "    adf = df[  (df['daynum']>=nap_tol) & (df['daynum']<nap_ig) ]\n",
    "    \n",
    "    agg_obj = adf.groupby('customer_id',as_index=False)\n",
    "    \n",
    "    stat = agg_obj[valtozo].agg(aggreg_fuggveny)\n",
    "    stat.columns=['customer_id',ujnev]\n",
    "    return stat"
   ]
  },
  {
   "cell_type": "code",
   "execution_count": 51,
   "metadata": {
    "collapsed": true
   },
   "outputs": [],
   "source": [
    "def cel_es_bemenet_generalasa(hataridopont):\n",
    "    \"\"\"\n",
    "    \"\"\"\n",
    "    # Lefuttatjuk a fenti függvényt:\n",
    "    alap = idoablak_statisztika(hataridopont,hataridopont+7,'target',np.sum)\n",
    "    \n",
    "    # Az egész adathalmazban megnézi, hogy kinek hány tranzakciója van\n",
    "    alap2 = df.groupby('customer_id',as_index=False)['visit_spend'].agg(len)\n",
    "    \n",
    "    # Mergreljük a két táblát\n",
    "    alap3 = alap2.merge(alap,on='customer_id',how='left')\n",
    "    alap3['target']=alap3['target'].fillna(0)\n",
    "    del alap3['visit_spend']\n",
    "    alap = alap3.copy()\n",
    "\n",
    "    # Elozo heti koltes\n",
    "    ujnev = 'elozo_heti_koltes'\n",
    "    uj = idoablak_statisztika(hataridopont-7,hataridopont, ujnev,np.sum)\n",
    "    alap = alap.merge(uj, on=\"customer_id\", how='left')\n",
    "    alap[ujnev] = alap[ujnev].fillna(0)\n",
    "    \n",
    "    # Elozo heti koltesszam\n",
    "    ujnev = 'elozo_heti_koltesszam'\n",
    "    uj = idoablak_statisztika(hataridopont-7,hataridopont, ujnev, len)\n",
    "    alap = alap.merge(uj, on=\"customer_id\", how='left')\n",
    "    alap[ujnev] = alap[ujnev].fillna(0)\n",
    "    \n",
    "    # Elozo heti koltes\n",
    "    ujnev = 'negy_hettel_ezelotti_koltes'\n",
    "    uj = idoablak_statisztika(hataridopont-7*4,hataridopont-7*3, ujnev, np.sum)\n",
    "    alap = alap.merge(uj, on=\"customer_id\", how='left')\n",
    "    alap[ujnev] = alap[ujnev].fillna(0)\n",
    "    \n",
    "    # Atlagos napi koltes\n",
    "    ujnev = 'atlagos_napi_koltes'\n",
    "    uj = idoablak_statisztika(0,hataridopont, ujnev, np.sum)\n",
    "    alap = alap.merge(uj, on=\"customer_id\", how='left')\n",
    "    alap[ujnev] = alap[ujnev].fillna(0)\n",
    "    alap[ujnev] = alap[ujnev] / hataridopont\n",
    "    \n",
    "    return alap"
   ]
  },
  {
   "cell_type": "code",
   "execution_count": 52,
   "metadata": {
    "collapsed": true
   },
   "outputs": [],
   "source": [
    "elso_idougras = 200"
   ]
  },
  {
   "cell_type": "code",
   "execution_count": 53,
   "metadata": {},
   "outputs": [],
   "source": [
    "xdf = cel_es_bemenet_generalasa(elso_idougras)"
   ]
  },
  {
   "cell_type": "code",
   "execution_count": 54,
   "metadata": {},
   "outputs": [
    {
     "data": {
      "text/html": [
       "<div>\n",
       "<style scoped>\n",
       "    .dataframe tbody tr th:only-of-type {\n",
       "        vertical-align: middle;\n",
       "    }\n",
       "\n",
       "    .dataframe tbody tr th {\n",
       "        vertical-align: top;\n",
       "    }\n",
       "\n",
       "    .dataframe thead th {\n",
       "        text-align: right;\n",
       "    }\n",
       "</style>\n",
       "<table border=\"1\" class=\"dataframe\">\n",
       "  <thead>\n",
       "    <tr style=\"text-align: right;\">\n",
       "      <th></th>\n",
       "      <th>customer_id</th>\n",
       "      <th>target</th>\n",
       "      <th>elozo_heti_koltes</th>\n",
       "      <th>elozo_heti_koltesszam</th>\n",
       "      <th>negy_hettel_ezelotti_koltes</th>\n",
       "      <th>atlagos_napi_koltes</th>\n",
       "    </tr>\n",
       "  </thead>\n",
       "  <tbody>\n",
       "    <tr>\n",
       "      <th>0</th>\n",
       "      <td>2</td>\n",
       "      <td>33.25</td>\n",
       "      <td>1.50</td>\n",
       "      <td>1.0</td>\n",
       "      <td>80.28</td>\n",
       "      <td>4.85495</td>\n",
       "    </tr>\n",
       "    <tr>\n",
       "      <th>1</th>\n",
       "      <td>3</td>\n",
       "      <td>96.24</td>\n",
       "      <td>70.39</td>\n",
       "      <td>3.0</td>\n",
       "      <td>91.05</td>\n",
       "      <td>9.85685</td>\n",
       "    </tr>\n",
       "    <tr>\n",
       "      <th>2</th>\n",
       "      <td>4</td>\n",
       "      <td>211.95</td>\n",
       "      <td>156.01</td>\n",
       "      <td>2.0</td>\n",
       "      <td>0.00</td>\n",
       "      <td>25.06170</td>\n",
       "    </tr>\n",
       "    <tr>\n",
       "      <th>3</th>\n",
       "      <td>5</td>\n",
       "      <td>79.87</td>\n",
       "      <td>93.71</td>\n",
       "      <td>3.0</td>\n",
       "      <td>0.00</td>\n",
       "      <td>9.04375</td>\n",
       "    </tr>\n",
       "    <tr>\n",
       "      <th>4</th>\n",
       "      <td>6</td>\n",
       "      <td>51.66</td>\n",
       "      <td>57.03</td>\n",
       "      <td>1.0</td>\n",
       "      <td>34.40</td>\n",
       "      <td>8.41935</td>\n",
       "    </tr>\n",
       "    <tr>\n",
       "      <th>5</th>\n",
       "      <td>7</td>\n",
       "      <td>0.00</td>\n",
       "      <td>159.36</td>\n",
       "      <td>1.0</td>\n",
       "      <td>0.00</td>\n",
       "      <td>11.09950</td>\n",
       "    </tr>\n",
       "    <tr>\n",
       "      <th>6</th>\n",
       "      <td>8</td>\n",
       "      <td>82.58</td>\n",
       "      <td>113.61</td>\n",
       "      <td>4.0</td>\n",
       "      <td>120.28</td>\n",
       "      <td>12.88285</td>\n",
       "    </tr>\n",
       "    <tr>\n",
       "      <th>7</th>\n",
       "      <td>11</td>\n",
       "      <td>18.90</td>\n",
       "      <td>20.39</td>\n",
       "      <td>1.0</td>\n",
       "      <td>56.56</td>\n",
       "      <td>6.05600</td>\n",
       "    </tr>\n",
       "    <tr>\n",
       "      <th>8</th>\n",
       "      <td>12</td>\n",
       "      <td>99.89</td>\n",
       "      <td>83.14</td>\n",
       "      <td>2.0</td>\n",
       "      <td>135.92</td>\n",
       "      <td>12.60730</td>\n",
       "    </tr>\n",
       "    <tr>\n",
       "      <th>9</th>\n",
       "      <td>14</td>\n",
       "      <td>46.28</td>\n",
       "      <td>0.00</td>\n",
       "      <td>0.0</td>\n",
       "      <td>31.59</td>\n",
       "      <td>6.81410</td>\n",
       "    </tr>\n",
       "    <tr>\n",
       "      <th>10</th>\n",
       "      <td>16</td>\n",
       "      <td>113.13</td>\n",
       "      <td>264.28</td>\n",
       "      <td>3.0</td>\n",
       "      <td>180.77</td>\n",
       "      <td>22.66640</td>\n",
       "    </tr>\n",
       "    <tr>\n",
       "      <th>11</th>\n",
       "      <td>17</td>\n",
       "      <td>110.45</td>\n",
       "      <td>110.57</td>\n",
       "      <td>2.0</td>\n",
       "      <td>142.67</td>\n",
       "      <td>18.15530</td>\n",
       "    </tr>\n",
       "    <tr>\n",
       "      <th>12</th>\n",
       "      <td>19</td>\n",
       "      <td>77.55</td>\n",
       "      <td>71.29</td>\n",
       "      <td>2.0</td>\n",
       "      <td>26.36</td>\n",
       "      <td>5.75380</td>\n",
       "    </tr>\n",
       "    <tr>\n",
       "      <th>13</th>\n",
       "      <td>20</td>\n",
       "      <td>162.56</td>\n",
       "      <td>84.81</td>\n",
       "      <td>2.0</td>\n",
       "      <td>64.26</td>\n",
       "      <td>17.19565</td>\n",
       "    </tr>\n",
       "    <tr>\n",
       "      <th>14</th>\n",
       "      <td>21</td>\n",
       "      <td>132.47</td>\n",
       "      <td>79.16</td>\n",
       "      <td>2.0</td>\n",
       "      <td>0.00</td>\n",
       "      <td>6.12480</td>\n",
       "    </tr>\n",
       "    <tr>\n",
       "      <th>15</th>\n",
       "      <td>22</td>\n",
       "      <td>63.79</td>\n",
       "      <td>55.20</td>\n",
       "      <td>3.0</td>\n",
       "      <td>109.52</td>\n",
       "      <td>8.88775</td>\n",
       "    </tr>\n",
       "    <tr>\n",
       "      <th>16</th>\n",
       "      <td>23</td>\n",
       "      <td>0.89</td>\n",
       "      <td>8.62</td>\n",
       "      <td>1.0</td>\n",
       "      <td>0.00</td>\n",
       "      <td>5.99955</td>\n",
       "    </tr>\n",
       "    <tr>\n",
       "      <th>17</th>\n",
       "      <td>26</td>\n",
       "      <td>27.28</td>\n",
       "      <td>26.88</td>\n",
       "      <td>2.0</td>\n",
       "      <td>86.02</td>\n",
       "      <td>5.84665</td>\n",
       "    </tr>\n",
       "    <tr>\n",
       "      <th>18</th>\n",
       "      <td>27</td>\n",
       "      <td>1.50</td>\n",
       "      <td>23.13</td>\n",
       "      <td>3.0</td>\n",
       "      <td>75.67</td>\n",
       "      <td>4.77630</td>\n",
       "    </tr>\n",
       "    <tr>\n",
       "      <th>19</th>\n",
       "      <td>29</td>\n",
       "      <td>92.50</td>\n",
       "      <td>85.70</td>\n",
       "      <td>6.0</td>\n",
       "      <td>144.42</td>\n",
       "      <td>22.24675</td>\n",
       "    </tr>\n",
       "    <tr>\n",
       "      <th>20</th>\n",
       "      <td>30</td>\n",
       "      <td>9.98</td>\n",
       "      <td>86.54</td>\n",
       "      <td>4.0</td>\n",
       "      <td>37.21</td>\n",
       "      <td>5.70460</td>\n",
       "    </tr>\n",
       "    <tr>\n",
       "      <th>21</th>\n",
       "      <td>31</td>\n",
       "      <td>0.00</td>\n",
       "      <td>130.11</td>\n",
       "      <td>2.0</td>\n",
       "      <td>35.60</td>\n",
       "      <td>6.38310</td>\n",
       "    </tr>\n",
       "    <tr>\n",
       "      <th>22</th>\n",
       "      <td>32</td>\n",
       "      <td>0.00</td>\n",
       "      <td>128.43</td>\n",
       "      <td>1.0</td>\n",
       "      <td>0.00</td>\n",
       "      <td>9.90510</td>\n",
       "    </tr>\n",
       "    <tr>\n",
       "      <th>23</th>\n",
       "      <td>33</td>\n",
       "      <td>94.47</td>\n",
       "      <td>105.00</td>\n",
       "      <td>2.0</td>\n",
       "      <td>0.00</td>\n",
       "      <td>8.10300</td>\n",
       "    </tr>\n",
       "    <tr>\n",
       "      <th>24</th>\n",
       "      <td>34</td>\n",
       "      <td>166.64</td>\n",
       "      <td>23.99</td>\n",
       "      <td>2.0</td>\n",
       "      <td>100.70</td>\n",
       "      <td>10.84680</td>\n",
       "    </tr>\n",
       "    <tr>\n",
       "      <th>25</th>\n",
       "      <td>35</td>\n",
       "      <td>88.19</td>\n",
       "      <td>292.16</td>\n",
       "      <td>3.0</td>\n",
       "      <td>107.98</td>\n",
       "      <td>18.94690</td>\n",
       "    </tr>\n",
       "    <tr>\n",
       "      <th>26</th>\n",
       "      <td>36</td>\n",
       "      <td>55.21</td>\n",
       "      <td>100.04</td>\n",
       "      <td>2.0</td>\n",
       "      <td>151.49</td>\n",
       "      <td>16.34380</td>\n",
       "    </tr>\n",
       "    <tr>\n",
       "      <th>27</th>\n",
       "      <td>37</td>\n",
       "      <td>140.29</td>\n",
       "      <td>44.89</td>\n",
       "      <td>1.0</td>\n",
       "      <td>123.92</td>\n",
       "      <td>6.89550</td>\n",
       "    </tr>\n",
       "    <tr>\n",
       "      <th>28</th>\n",
       "      <td>39</td>\n",
       "      <td>24.98</td>\n",
       "      <td>108.21</td>\n",
       "      <td>2.0</td>\n",
       "      <td>128.06</td>\n",
       "      <td>20.06425</td>\n",
       "    </tr>\n",
       "    <tr>\n",
       "      <th>29</th>\n",
       "      <td>41</td>\n",
       "      <td>109.97</td>\n",
       "      <td>69.80</td>\n",
       "      <td>3.0</td>\n",
       "      <td>22.42</td>\n",
       "      <td>12.23110</td>\n",
       "    </tr>\n",
       "  </tbody>\n",
       "</table>\n",
       "</div>"
      ],
      "text/plain": [
       "    customer_id  target  elozo_heti_koltes  elozo_heti_koltesszam  \\\n",
       "0             2   33.25               1.50                    1.0   \n",
       "1             3   96.24              70.39                    3.0   \n",
       "2             4  211.95             156.01                    2.0   \n",
       "3             5   79.87              93.71                    3.0   \n",
       "4             6   51.66              57.03                    1.0   \n",
       "5             7    0.00             159.36                    1.0   \n",
       "6             8   82.58             113.61                    4.0   \n",
       "7            11   18.90              20.39                    1.0   \n",
       "8            12   99.89              83.14                    2.0   \n",
       "9            14   46.28               0.00                    0.0   \n",
       "10           16  113.13             264.28                    3.0   \n",
       "11           17  110.45             110.57                    2.0   \n",
       "12           19   77.55              71.29                    2.0   \n",
       "13           20  162.56              84.81                    2.0   \n",
       "14           21  132.47              79.16                    2.0   \n",
       "15           22   63.79              55.20                    3.0   \n",
       "16           23    0.89               8.62                    1.0   \n",
       "17           26   27.28              26.88                    2.0   \n",
       "18           27    1.50              23.13                    3.0   \n",
       "19           29   92.50              85.70                    6.0   \n",
       "20           30    9.98              86.54                    4.0   \n",
       "21           31    0.00             130.11                    2.0   \n",
       "22           32    0.00             128.43                    1.0   \n",
       "23           33   94.47             105.00                    2.0   \n",
       "24           34  166.64              23.99                    2.0   \n",
       "25           35   88.19             292.16                    3.0   \n",
       "26           36   55.21             100.04                    2.0   \n",
       "27           37  140.29              44.89                    1.0   \n",
       "28           39   24.98             108.21                    2.0   \n",
       "29           41  109.97              69.80                    3.0   \n",
       "\n",
       "    negy_hettel_ezelotti_koltes  atlagos_napi_koltes  \n",
       "0                         80.28              4.85495  \n",
       "1                         91.05              9.85685  \n",
       "2                          0.00             25.06170  \n",
       "3                          0.00              9.04375  \n",
       "4                         34.40              8.41935  \n",
       "5                          0.00             11.09950  \n",
       "6                        120.28             12.88285  \n",
       "7                         56.56              6.05600  \n",
       "8                        135.92             12.60730  \n",
       "9                         31.59              6.81410  \n",
       "10                       180.77             22.66640  \n",
       "11                       142.67             18.15530  \n",
       "12                        26.36              5.75380  \n",
       "13                        64.26             17.19565  \n",
       "14                         0.00              6.12480  \n",
       "15                       109.52              8.88775  \n",
       "16                         0.00              5.99955  \n",
       "17                        86.02              5.84665  \n",
       "18                        75.67              4.77630  \n",
       "19                       144.42             22.24675  \n",
       "20                        37.21              5.70460  \n",
       "21                        35.60              6.38310  \n",
       "22                         0.00              9.90510  \n",
       "23                         0.00              8.10300  \n",
       "24                       100.70             10.84680  \n",
       "25                       107.98             18.94690  \n",
       "26                       151.49             16.34380  \n",
       "27                       123.92              6.89550  \n",
       "28                       128.06             20.06425  \n",
       "29                        22.42             12.23110  "
      ]
     },
     "execution_count": 54,
     "metadata": {},
     "output_type": "execute_result"
    }
   ],
   "source": [
    "xdf.head(30)"
   ]
  },
  {
   "cell_type": "code",
   "execution_count": 55,
   "metadata": {},
   "outputs": [
    {
     "data": {
      "image/png": "[encoded data removed]",
      "text/plain": [
       "<matplotlib.figure.Figure at 0x7f5352c309e8>"
      ]
     },
     "metadata": {},
     "output_type": "display_data"
    }
   ],
   "source": [
    "_,_,_=plt.hist(xdf['target'],bins=100)"
   ]
  },
  {
   "cell_type": "code",
   "execution_count": 56,
   "metadata": {},
   "outputs": [
    {
     "data": {
      "text/plain": [
       "<matplotlib.axes._subplots.AxesSubplot at 0x7f5352cabc50>"
      ]
     },
     "execution_count": 56,
     "metadata": {},
     "output_type": "execute_result"
    },
    {
     "data": {
      "image/png": "[encoded data removed]",
      "text/plain": [
       "<matplotlib.figure.Figure at 0x7f5352c1d8d0>"
      ]
     },
     "metadata": {},
     "output_type": "display_data"
    }
   ],
   "source": [
    "xdf.plot('target', 'elozo_heti_koltes', kind='scatter')"
   ]
  },
  {
   "cell_type": "markdown",
   "metadata": {},
   "source": [
    "# Modellezés\n",
    "1. Test-train split\n",
    "2. GBM építés\n",
    "3. GBM alkalmazás\n",
    "4. MAPE számítás"
   ]
  },
  {
   "cell_type": "markdown",
   "metadata": {},
   "source": [
    "## Test-train split"
   ]
  },
  {
   "cell_type": "code",
   "execution_count": 58,
   "metadata": {
    "collapsed": true
   },
   "outputs": [],
   "source": [
    "celvaltozo = 'target'\n",
    "bemeno_valtozo = list(xdf.columns[2:])"
   ]
  },
  {
   "cell_type": "code",
   "execution_count": 59,
   "metadata": {},
   "outputs": [
    {
     "data": {
      "text/plain": [
       "['elozo_heti_koltes',\n",
       " 'elozo_heti_koltesszam',\n",
       " 'negy_hettel_ezelotti_koltes',\n",
       " 'atlagos_napi_koltes']"
      ]
     },
     "execution_count": 59,
     "metadata": {},
     "output_type": "execute_result"
    }
   ],
   "source": [
    "bemeno_valtozo"
   ]
  },
  {
   "cell_type": "code",
   "execution_count": null,
   "metadata": {
    "collapsed": true
   },
   "outputs": [],
   "source": [
    "from sklearn.cross_validation import train_test_split"
   ]
  },
  {
   "cell_type": "code",
   "execution_count": 61,
   "metadata": {
    "collapsed": true
   },
   "outputs": [],
   "source": [
    "train_df, test_df = train_test_split(xdf, test_size=0.5, random_state=42)"
   ]
  },
  {
   "cell_type": "code",
   "execution_count": 64,
   "metadata": {},
   "outputs": [
    {
     "data": {
      "text/plain": [
       "(2500, 6)"
      ]
     },
     "execution_count": 64,
     "metadata": {},
     "output_type": "execute_result"
    }
   ],
   "source": [
    "train_df.shape"
   ]
  },
  {
   "cell_type": "code",
   "execution_count": null,
   "metadata": {},
   "outputs": [],
   "source": [
    "test_df.shape"
   ]
  },
  {
   "cell_type": "code",
   "execution_count": 67,
   "metadata": {},
   "outputs": [],
   "source": [
    "from sklearn.ensemble import GradientBoostingRegressor"
   ]
  },
  {
   "cell_type": "code",
   "execution_count": 69,
   "metadata": {},
   "outputs": [],
   "source": [
    "model = GradientBoostingRegressor(n_estimators=100)"
   ]
  },
  {
   "cell_type": "code",
   "execution_count": 71,
   "metadata": {},
   "outputs": [
    {
     "data": {
      "text/plain": [
       "GradientBoostingRegressor(alpha=0.9, criterion='friedman_mse', init=None,\n",
       "             learning_rate=0.1, loss='ls', max_depth=3, max_features=None,\n",
       "             max_leaf_nodes=None, min_impurity_decrease=0.0,\n",
       "             min_impurity_split=None, min_samples_leaf=1,\n",
       "             min_samples_split=2, min_weight_fraction_leaf=0.0,\n",
       "             n_estimators=100, presort='auto', random_state=None,\n",
       "             subsample=1.0, verbose=0, warm_start=False)"
      ]
     },
     "execution_count": 71,
     "metadata": {},
     "output_type": "execute_result"
    }
   ],
   "source": [
    "model.fit(train_df[bemeno_valtozo], train_df[celvaltozo])"
   ]
  },
  {
   "cell_type": "code",
   "execution_count": 72,
   "metadata": {
    "collapsed": true
   },
   "outputs": [],
   "source": [
    "test_df = test_df.copy()"
   ]
  },
  {
   "cell_type": "code",
   "execution_count": 73,
   "metadata": {
    "collapsed": true
   },
   "outputs": [],
   "source": [
    "test_df['tipp'] = model.predict(test_df[bemeno_valtozo])"
   ]
  },
  {
   "cell_type": "code",
   "execution_count": 74,
   "metadata": {},
   "outputs": [
    {
     "data": {
      "text/html": [
       "<div>\n",
       "<style scoped>\n",
       "    .dataframe tbody tr th:only-of-type {\n",
       "        vertical-align: middle;\n",
       "    }\n",
       "\n",
       "    .dataframe tbody tr th {\n",
       "        vertical-align: top;\n",
       "    }\n",
       "\n",
       "    .dataframe thead th {\n",
       "        text-align: right;\n",
       "    }\n",
       "</style>\n",
       "<table border=\"1\" class=\"dataframe\">\n",
       "  <thead>\n",
       "    <tr style=\"text-align: right;\">\n",
       "      <th></th>\n",
       "      <th>customer_id</th>\n",
       "      <th>target</th>\n",
       "      <th>elozo_heti_koltes</th>\n",
       "      <th>elozo_heti_koltesszam</th>\n",
       "      <th>negy_hettel_ezelotti_koltes</th>\n",
       "      <th>atlagos_napi_koltes</th>\n",
       "      <th>tipp</th>\n",
       "    </tr>\n",
       "  </thead>\n",
       "  <tbody>\n",
       "    <tr>\n",
       "      <th>1501</th>\n",
       "      <td>2251</td>\n",
       "      <td>80.00</td>\n",
       "      <td>82.68</td>\n",
       "      <td>1.0</td>\n",
       "      <td>63.48</td>\n",
       "      <td>11.20985</td>\n",
       "      <td>86.294339</td>\n",
       "    </tr>\n",
       "    <tr>\n",
       "      <th>2586</th>\n",
       "      <td>3835</td>\n",
       "      <td>71.75</td>\n",
       "      <td>68.52</td>\n",
       "      <td>1.0</td>\n",
       "      <td>50.98</td>\n",
       "      <td>7.83290</td>\n",
       "      <td>62.018087</td>\n",
       "    </tr>\n",
       "    <tr>\n",
       "      <th>2653</th>\n",
       "      <td>3934</td>\n",
       "      <td>33.74</td>\n",
       "      <td>38.91</td>\n",
       "      <td>1.0</td>\n",
       "      <td>25.00</td>\n",
       "      <td>4.87330</td>\n",
       "      <td>35.235044</td>\n",
       "    </tr>\n",
       "    <tr>\n",
       "      <th>1055</th>\n",
       "      <td>1583</td>\n",
       "      <td>0.00</td>\n",
       "      <td>29.97</td>\n",
       "      <td>1.0</td>\n",
       "      <td>64.22</td>\n",
       "      <td>12.04280</td>\n",
       "      <td>84.160562</td>\n",
       "    </tr>\n",
       "    <tr>\n",
       "      <th>705</th>\n",
       "      <td>1060</td>\n",
       "      <td>20.47</td>\n",
       "      <td>0.00</td>\n",
       "      <td>0.0</td>\n",
       "      <td>0.00</td>\n",
       "      <td>5.37295</td>\n",
       "      <td>40.784322</td>\n",
       "    </tr>\n",
       "  </tbody>\n",
       "</table>\n",
       "</div>"
      ],
      "text/plain": [
       "      customer_id  target  elozo_heti_koltes  elozo_heti_koltesszam  \\\n",
       "1501         2251   80.00              82.68                    1.0   \n",
       "2586         3835   71.75              68.52                    1.0   \n",
       "2653         3934   33.74              38.91                    1.0   \n",
       "1055         1583    0.00              29.97                    1.0   \n",
       "705          1060   20.47               0.00                    0.0   \n",
       "\n",
       "      negy_hettel_ezelotti_koltes  atlagos_napi_koltes       tipp  \n",
       "1501                        63.48             11.20985  86.294339  \n",
       "2586                        50.98              7.83290  62.018087  \n",
       "2653                        25.00              4.87330  35.235044  \n",
       "1055                        64.22             12.04280  84.160562  \n",
       "705                          0.00              5.37295  40.784322  "
      ]
     },
     "execution_count": 74,
     "metadata": {},
     "output_type": "execute_result"
    }
   ],
   "source": [
    "test_df.head()"
   ]
  },
  {
   "cell_type": "code",
   "execution_count": 78,
   "metadata": {},
   "outputs": [
    {
     "data": {
      "text/plain": [
       "39.99350120848171"
      ]
     },
     "execution_count": 78,
     "metadata": {},
     "output_type": "execute_result"
    }
   ],
   "source": [
    "abs(test_df['tipp'] - test_df['target']).mean()"
   ]
  },
  {
   "cell_type": "code",
   "execution_count": 79,
   "metadata": {
    "scrolled": true
   },
   "outputs": [
    {
     "data": {
      "text/plain": [
       "82.61930799999999"
      ]
     },
     "execution_count": 79,
     "metadata": {},
     "output_type": "execute_result"
    }
   ],
   "source": [
    "np.mean(test_df['target'])"
   ]
  },
  {
   "cell_type": "markdown",
   "metadata": {},
   "source": [
    "A hiba amit elkövettünk: a mai napon nem tudom alkalmazni a modelt, mivel nincs adatom a jövőre vonatkozóan\n",
    "\n",
    "Ehelyett a 200 nappal ezelőtt alkalmazható modelre a tanítást egy korábbi időpontban tudom csak megtenni."
   ]
  },
  {
   "cell_type": "markdown",
   "metadata": {},
   "source": [
    "## Modellezés II."
   ]
  },
  {
   "cell_type": "code",
   "execution_count": 80,
   "metadata": {
    "collapsed": true
   },
   "outputs": [],
   "source": [
    "celvaltozo = 'target'\n",
    "bemeno_valtozo = list(xdf.columns[2:])"
   ]
  },
  {
   "cell_type": "code",
   "execution_count": 81,
   "metadata": {},
   "outputs": [
    {
     "data": {
      "text/plain": [
       "['elozo_heti_koltes',\n",
       " 'elozo_heti_koltesszam',\n",
       " 'negy_hettel_ezelotti_koltes',\n",
       " 'atlagos_napi_koltes']"
      ]
     },
     "execution_count": 81,
     "metadata": {},
     "output_type": "execute_result"
    }
   ],
   "source": [
    "bemeno_valtozo"
   ]
  },
  {
   "cell_type": "code",
   "execution_count": 82,
   "metadata": {
    "collapsed": true
   },
   "outputs": [],
   "source": [
    "from sklearn.cross_validation import train_test_split"
   ]
  },
  {
   "cell_type": "code",
   "execution_count": 83,
   "metadata": {
    "collapsed": true
   },
   "outputs": [],
   "source": [
    "train_df, test_df = train_test_split(xdf, test_size=0.5, random_state=42)"
   ]
  },
  {
   "cell_type": "code",
   "execution_count": 84,
   "metadata": {
    "collapsed": true
   },
   "outputs": [],
   "source": [
    "test_df = cel_es_bemenet_generalasa(elso_idougras)\n",
    "train_df = cel_es_bemenet_generalasa(elso_idougras-28)"
   ]
  },
  {
   "cell_type": "code",
   "execution_count": 85,
   "metadata": {},
   "outputs": [
    {
     "data": {
      "text/plain": [
       "(5000, 6)"
      ]
     },
     "execution_count": 85,
     "metadata": {},
     "output_type": "execute_result"
    }
   ],
   "source": [
    "train_df.shape"
   ]
  },
  {
   "cell_type": "code",
   "execution_count": 86,
   "metadata": {},
   "outputs": [
    {
     "data": {
      "text/plain": [
       "(5000, 6)"
      ]
     },
     "execution_count": 86,
     "metadata": {},
     "output_type": "execute_result"
    }
   ],
   "source": [
    "test_df.shape"
   ]
  },
  {
   "cell_type": "code",
   "execution_count": 87,
   "metadata": {
    "collapsed": true
   },
   "outputs": [],
   "source": [
    "from sklearn.ensemble import GradientBoostingRegressor"
   ]
  },
  {
   "cell_type": "code",
   "execution_count": 88,
   "metadata": {
    "collapsed": true
   },
   "outputs": [],
   "source": [
    "model = GradientBoostingRegressor(n_estimators=100)"
   ]
  },
  {
   "cell_type": "code",
   "execution_count": 89,
   "metadata": {},
   "outputs": [
    {
     "data": {
      "text/plain": [
       "GradientBoostingRegressor(alpha=0.9, criterion='friedman_mse', init=None,\n",
       "             learning_rate=0.1, loss='ls', max_depth=3, max_features=None,\n",
       "             max_leaf_nodes=None, min_impurity_decrease=0.0,\n",
       "             min_impurity_split=None, min_samples_leaf=1,\n",
       "             min_samples_split=2, min_weight_fraction_leaf=0.0,\n",
       "             n_estimators=100, presort='auto', random_state=None,\n",
       "             subsample=1.0, verbose=0, warm_start=False)"
      ]
     },
     "execution_count": 89,
     "metadata": {},
     "output_type": "execute_result"
    }
   ],
   "source": [
    "model.fit(train_df[bemeno_valtozo], train_df[celvaltozo])"
   ]
  },
  {
   "cell_type": "code",
   "execution_count": 90,
   "metadata": {
    "collapsed": true
   },
   "outputs": [],
   "source": [
    "test_df = test_df.copy()"
   ]
  },
  {
   "cell_type": "code",
   "execution_count": 91,
   "metadata": {
    "collapsed": true
   },
   "outputs": [],
   "source": [
    "test_df['tipp'] = model.predict(test_df[bemeno_valtozo])"
   ]
  },
  {
   "cell_type": "code",
   "execution_count": 92,
   "metadata": {},
   "outputs": [
    {
     "data": {
      "text/html": [
       "<div>\n",
       "<style scoped>\n",
       "    .dataframe tbody tr th:only-of-type {\n",
       "        vertical-align: middle;\n",
       "    }\n",
       "\n",
       "    .dataframe tbody tr th {\n",
       "        vertical-align: top;\n",
       "    }\n",
       "\n",
       "    .dataframe thead th {\n",
       "        text-align: right;\n",
       "    }\n",
       "</style>\n",
       "<table border=\"1\" class=\"dataframe\">\n",
       "  <thead>\n",
       "    <tr style=\"text-align: right;\">\n",
       "      <th></th>\n",
       "      <th>customer_id</th>\n",
       "      <th>target</th>\n",
       "      <th>elozo_heti_koltes</th>\n",
       "      <th>elozo_heti_koltesszam</th>\n",
       "      <th>negy_hettel_ezelotti_koltes</th>\n",
       "      <th>atlagos_napi_koltes</th>\n",
       "      <th>tipp</th>\n",
       "    </tr>\n",
       "  </thead>\n",
       "  <tbody>\n",
       "    <tr>\n",
       "      <th>0</th>\n",
       "      <td>2</td>\n",
       "      <td>33.25</td>\n",
       "      <td>1.50</td>\n",
       "      <td>1.0</td>\n",
       "      <td>80.28</td>\n",
       "      <td>4.85495</td>\n",
       "      <td>38.604305</td>\n",
       "    </tr>\n",
       "    <tr>\n",
       "      <th>1</th>\n",
       "      <td>3</td>\n",
       "      <td>96.24</td>\n",
       "      <td>70.39</td>\n",
       "      <td>3.0</td>\n",
       "      <td>91.05</td>\n",
       "      <td>9.85685</td>\n",
       "      <td>73.625102</td>\n",
       "    </tr>\n",
       "    <tr>\n",
       "      <th>2</th>\n",
       "      <td>4</td>\n",
       "      <td>211.95</td>\n",
       "      <td>156.01</td>\n",
       "      <td>2.0</td>\n",
       "      <td>0.00</td>\n",
       "      <td>25.06170</td>\n",
       "      <td>154.922851</td>\n",
       "    </tr>\n",
       "    <tr>\n",
       "      <th>3</th>\n",
       "      <td>5</td>\n",
       "      <td>79.87</td>\n",
       "      <td>93.71</td>\n",
       "      <td>3.0</td>\n",
       "      <td>0.00</td>\n",
       "      <td>9.04375</td>\n",
       "      <td>55.650571</td>\n",
       "    </tr>\n",
       "    <tr>\n",
       "      <th>4</th>\n",
       "      <td>6</td>\n",
       "      <td>51.66</td>\n",
       "      <td>57.03</td>\n",
       "      <td>1.0</td>\n",
       "      <td>34.40</td>\n",
       "      <td>8.41935</td>\n",
       "      <td>53.540869</td>\n",
       "    </tr>\n",
       "  </tbody>\n",
       "</table>\n",
       "</div>"
      ],
      "text/plain": [
       "   customer_id  target  elozo_heti_koltes  elozo_heti_koltesszam  \\\n",
       "0            2   33.25               1.50                    1.0   \n",
       "1            3   96.24              70.39                    3.0   \n",
       "2            4  211.95             156.01                    2.0   \n",
       "3            5   79.87              93.71                    3.0   \n",
       "4            6   51.66              57.03                    1.0   \n",
       "\n",
       "   negy_hettel_ezelotti_koltes  atlagos_napi_koltes        tipp  \n",
       "0                        80.28              4.85495   38.604305  \n",
       "1                        91.05              9.85685   73.625102  \n",
       "2                         0.00             25.06170  154.922851  \n",
       "3                         0.00              9.04375   55.650571  \n",
       "4                        34.40              8.41935   53.540869  "
      ]
     },
     "execution_count": 92,
     "metadata": {},
     "output_type": "execute_result"
    }
   ],
   "source": [
    "test_df.head()"
   ]
  },
  {
   "cell_type": "code",
   "execution_count": 93,
   "metadata": {},
   "outputs": [
    {
     "data": {
      "text/plain": [
       "39.115900030861276"
      ]
     },
     "execution_count": 93,
     "metadata": {},
     "output_type": "execute_result"
    }
   ],
   "source": [
    "abs(test_df['tipp'] - test_df['target']).mean()"
   ]
  },
  {
   "cell_type": "code",
   "execution_count": 94,
   "metadata": {
    "scrolled": false
   },
   "outputs": [
    {
     "data": {
      "text/plain": [
       "82.289952"
      ]
     },
     "execution_count": 94,
     "metadata": {},
     "output_type": "execute_result"
    }
   ],
   "source": [
    "np.mean(test_df['target'])"
   ]
  },
  {
   "cell_type": "markdown",
   "metadata": {},
   "source": [
    "## Modellezés III."
   ]
  },
  {
   "cell_type": "code",
   "execution_count": 80,
   "metadata": {
    "collapsed": true
   },
   "outputs": [],
   "source": [
    "celvaltozo = 'target'\n",
    "bemeno_valtozo = list(xdf.columns[2:])"
   ]
  },
  {
   "cell_type": "code",
   "execution_count": 81,
   "metadata": {},
   "outputs": [
    {
     "data": {
      "text/plain": [
       "['elozo_heti_koltes',\n",
       " 'elozo_heti_koltesszam',\n",
       " 'negy_hettel_ezelotti_koltes',\n",
       " 'atlagos_napi_koltes']"
      ]
     },
     "execution_count": 81,
     "metadata": {},
     "output_type": "execute_result"
    }
   ],
   "source": [
    "bemeno_valtozo"
   ]
  },
  {
   "cell_type": "code",
   "execution_count": 82,
   "metadata": {
    "collapsed": true
   },
   "outputs": [],
   "source": [
    "from sklearn.cross_validation import train_test_split"
   ]
  },
  {
   "cell_type": "code",
   "execution_count": 83,
   "metadata": {
    "collapsed": true
   },
   "outputs": [],
   "source": [
    "train_df, test_df = train_test_split(xdf, test_size=0.5, random_state=42)"
   ]
  },
  {
   "cell_type": "code",
   "execution_count": 95,
   "metadata": {
    "collapsed": true
   },
   "outputs": [],
   "source": [
    "test_df = cel_es_bemenet_generalasa(elso_idougras)\n",
    "train_df = cel_es_bemenet_generalasa(elso_idougras-7)"
   ]
  },
  {
   "cell_type": "code",
   "execution_count": 96,
   "metadata": {},
   "outputs": [
    {
     "data": {
      "text/plain": [
       "(5000, 6)"
      ]
     },
     "execution_count": 96,
     "metadata": {},
     "output_type": "execute_result"
    }
   ],
   "source": [
    "train_df.shape"
   ]
  },
  {
   "cell_type": "code",
   "execution_count": 97,
   "metadata": {},
   "outputs": [
    {
     "data": {
      "text/plain": [
       "(5000, 6)"
      ]
     },
     "execution_count": 97,
     "metadata": {},
     "output_type": "execute_result"
    }
   ],
   "source": [
    "test_df.shape"
   ]
  },
  {
   "cell_type": "code",
   "execution_count": 98,
   "metadata": {
    "collapsed": true
   },
   "outputs": [],
   "source": [
    "from sklearn.ensemble import GradientBoostingRegressor"
   ]
  },
  {
   "cell_type": "code",
   "execution_count": 99,
   "metadata": {
    "collapsed": true
   },
   "outputs": [],
   "source": [
    "model = GradientBoostingRegressor(n_estimators=100)"
   ]
  },
  {
   "cell_type": "code",
   "execution_count": 100,
   "metadata": {},
   "outputs": [
    {
     "data": {
      "text/plain": [
       "GradientBoostingRegressor(alpha=0.9, criterion='friedman_mse', init=None,\n",
       "             learning_rate=0.1, loss='ls', max_depth=3, max_features=None,\n",
       "             max_leaf_nodes=None, min_impurity_decrease=0.0,\n",
       "             min_impurity_split=None, min_samples_leaf=1,\n",
       "             min_samples_split=2, min_weight_fraction_leaf=0.0,\n",
       "             n_estimators=100, presort='auto', random_state=None,\n",
       "             subsample=1.0, verbose=0, warm_start=False)"
      ]
     },
     "execution_count": 100,
     "metadata": {},
     "output_type": "execute_result"
    }
   ],
   "source": [
    "model.fit(train_df[bemeno_valtozo], train_df[celvaltozo])"
   ]
  },
  {
   "cell_type": "code",
   "execution_count": 101,
   "metadata": {
    "collapsed": true
   },
   "outputs": [],
   "source": [
    "test_df = test_df.copy()"
   ]
  },
  {
   "cell_type": "code",
   "execution_count": 102,
   "metadata": {
    "collapsed": true
   },
   "outputs": [],
   "source": [
    "test_df['tipp'] = model.predict(test_df[bemeno_valtozo])"
   ]
  },
  {
   "cell_type": "code",
   "execution_count": 103,
   "metadata": {},
   "outputs": [
    {
     "data": {
      "text/html": [
       "<div>\n",
       "<style scoped>\n",
       "    .dataframe tbody tr th:only-of-type {\n",
       "        vertical-align: middle;\n",
       "    }\n",
       "\n",
       "    .dataframe tbody tr th {\n",
       "        vertical-align: top;\n",
       "    }\n",
       "\n",
       "    .dataframe thead th {\n",
       "        text-align: right;\n",
       "    }\n",
       "</style>\n",
       "<table border=\"1\" class=\"dataframe\">\n",
       "  <thead>\n",
       "    <tr style=\"text-align: right;\">\n",
       "      <th></th>\n",
       "      <th>customer_id</th>\n",
       "      <th>target</th>\n",
       "      <th>elozo_heti_koltes</th>\n",
       "      <th>elozo_heti_koltesszam</th>\n",
       "      <th>negy_hettel_ezelotti_koltes</th>\n",
       "      <th>atlagos_napi_koltes</th>\n",
       "      <th>tipp</th>\n",
       "    </tr>\n",
       "  </thead>\n",
       "  <tbody>\n",
       "    <tr>\n",
       "      <th>0</th>\n",
       "      <td>2</td>\n",
       "      <td>33.25</td>\n",
       "      <td>1.50</td>\n",
       "      <td>1.0</td>\n",
       "      <td>80.28</td>\n",
       "      <td>4.85495</td>\n",
       "      <td>43.880956</td>\n",
       "    </tr>\n",
       "    <tr>\n",
       "      <th>1</th>\n",
       "      <td>3</td>\n",
       "      <td>96.24</td>\n",
       "      <td>70.39</td>\n",
       "      <td>3.0</td>\n",
       "      <td>91.05</td>\n",
       "      <td>9.85685</td>\n",
       "      <td>69.285750</td>\n",
       "    </tr>\n",
       "    <tr>\n",
       "      <th>2</th>\n",
       "      <td>4</td>\n",
       "      <td>211.95</td>\n",
       "      <td>156.01</td>\n",
       "      <td>2.0</td>\n",
       "      <td>0.00</td>\n",
       "      <td>25.06170</td>\n",
       "      <td>158.794168</td>\n",
       "    </tr>\n",
       "    <tr>\n",
       "      <th>3</th>\n",
       "      <td>5</td>\n",
       "      <td>79.87</td>\n",
       "      <td>93.71</td>\n",
       "      <td>3.0</td>\n",
       "      <td>0.00</td>\n",
       "      <td>9.04375</td>\n",
       "      <td>57.107918</td>\n",
       "    </tr>\n",
       "    <tr>\n",
       "      <th>4</th>\n",
       "      <td>6</td>\n",
       "      <td>51.66</td>\n",
       "      <td>57.03</td>\n",
       "      <td>1.0</td>\n",
       "      <td>34.40</td>\n",
       "      <td>8.41935</td>\n",
       "      <td>53.242500</td>\n",
       "    </tr>\n",
       "  </tbody>\n",
       "</table>\n",
       "</div>"
      ],
      "text/plain": [
       "   customer_id  target  elozo_heti_koltes  elozo_heti_koltesszam  \\\n",
       "0            2   33.25               1.50                    1.0   \n",
       "1            3   96.24              70.39                    3.0   \n",
       "2            4  211.95             156.01                    2.0   \n",
       "3            5   79.87              93.71                    3.0   \n",
       "4            6   51.66              57.03                    1.0   \n",
       "\n",
       "   negy_hettel_ezelotti_koltes  atlagos_napi_koltes        tipp  \n",
       "0                        80.28              4.85495   43.880956  \n",
       "1                        91.05              9.85685   69.285750  \n",
       "2                         0.00             25.06170  158.794168  \n",
       "3                         0.00              9.04375   57.107918  \n",
       "4                        34.40              8.41935   53.242500  "
      ]
     },
     "execution_count": 103,
     "metadata": {},
     "output_type": "execute_result"
    }
   ],
   "source": [
    "test_df.head()"
   ]
  },
  {
   "cell_type": "code",
   "execution_count": 104,
   "metadata": {},
   "outputs": [
    {
     "data": {
      "text/plain": [
       "39.11965792080255"
      ]
     },
     "execution_count": 104,
     "metadata": {},
     "output_type": "execute_result"
    }
   ],
   "source": [
    "abs(test_df['tipp'] - test_df['target']).mean()"
   ]
  },
  {
   "cell_type": "code",
   "execution_count": 105,
   "metadata": {
    "scrolled": true
   },
   "outputs": [
    {
     "data": {
      "text/plain": [
       "82.289952"
      ]
     },
     "execution_count": 105,
     "metadata": {},
     "output_type": "execute_result"
    }
   ],
   "source": [
    "np.mean(test_df['target'])"
   ]
  },
  {
   "cell_type": "markdown",
   "metadata": {},
   "source": [
    "## Tanítási adatmennyiség változásának hatása"
   ]
  },
  {
   "cell_type": "code",
   "execution_count": 107,
   "metadata": {},
   "outputs": [],
   "source": [
    "xt = []\n",
    "yt = []\n",
    "for train_size in range(100, 5001, 100):\n",
    "    atrain_df = train_df.iloc[:train_size,:]\n",
    "    model.fit(atrain_df[bemeno_valtozo], atrain_df[celvaltozo])\n",
    "    test_df['tipp'] = model.predict(test_df[bemeno_valtozo])\n",
    "    MAE = np.mean(abs(test_df['tipp']-test_df['target']))\n",
    "    \n",
    "    xt.append(train_size)\n",
    "    yt.append(MAE)"
   ]
  },
  {
   "cell_type": "code",
   "execution_count": 108,
   "metadata": {},
   "outputs": [
    {
     "data": {
      "text/plain": [
       "[<matplotlib.lines.Line2D at 0x7f5346ff5748>]"
      ]
     },
     "execution_count": 108,
     "metadata": {},
     "output_type": "execute_result"
    },
    {
     "data": {
      "image/png": "[encoded data removed]",
      "text/plain": [
       "<matplotlib.figure.Figure at 0x7f5347072390>"
      ]
     },
     "metadata": {},
     "output_type": "display_data"
    }
   ],
   "source": [
    "plt.plot(xt, yt)"
   ]
  },
  {
   "cell_type": "markdown",
   "metadata": {},
   "source": [
    "## Intervallumok változtatása\n",
    "Az adatmennyiségen kívül ugyanakkor ugyancsak hozzá lehet adni különböző időintervallumokat. "
   ]
  },
  {
   "cell_type": "code",
   "execution_count": 114,
   "metadata": {},
   "outputs": [],
   "source": [
    "test_df = cel_es_bemenet_generalasa(elso_idougras)\n",
    "dfek = []\n",
    "for i in [7, 14, 21]:\n",
    "    uj_train_df = cel_es_bemenet_generalasa(elso_idougras-i)\n",
    "    dfek.append(uj_train_df)\n",
    "train_df = pd.concat(dfek)"
   ]
  },
  {
   "cell_type": "code",
   "execution_count": 115,
   "metadata": {},
   "outputs": [
    {
     "data": {
      "text/plain": [
       "(15000, 6)"
      ]
     },
     "execution_count": 115,
     "metadata": {},
     "output_type": "execute_result"
    }
   ],
   "source": [
    "train_df.shape"
   ]
  },
  {
   "cell_type": "code",
   "execution_count": 118,
   "metadata": {
    "collapsed": true
   },
   "outputs": [],
   "source": [
    "xt = []\n",
    "yt = []\n",
    "for train_size in range(1000, 15001, 1000):\n",
    "    atrain_df = train_df.iloc[:train_size,:]\n",
    "    model.fit(atrain_df[bemeno_valtozo], atrain_df[celvaltozo])\n",
    "    test_df['tipp'] = model.predict(test_df[bemeno_valtozo])\n",
    "    MAE = np.mean(abs(test_df['tipp']-test_df['target']))\n",
    "    \n",
    "    xt.append(train_size)\n",
    "    yt.append(MAE)"
   ]
  },
  {
   "cell_type": "code",
   "execution_count": 119,
   "metadata": {},
   "outputs": [
    {
     "data": {
      "text/plain": [
       "[<matplotlib.lines.Line2D at 0x7f53453f4ba8>]"
      ]
     },
     "execution_count": 119,
     "metadata": {},
     "output_type": "execute_result"
    },
    {
     "data": {
      "image/png": "[encoded data removed]",
      "text/plain": [
       "<matplotlib.figure.Figure at 0x7f53453ba4e0>"
      ]
     },
     "metadata": {},
     "output_type": "display_data"
    }
   ],
   "source": [
    "plt.plot(xt, yt)"
   ]
  },
  {
   "cell_type": "markdown",
   "metadata": {},
   "source": [
    "Az ábra hullámzik, mivel túltanultunk pl nem költőkre vagy a korai időszakra."
   ]
  },
  {
   "cell_type": "code",
   "execution_count": null,
   "metadata": {
    "collapsed": true
   },
   "outputs": [],
   "source": []
  }
 ],
 "metadata": {
  "kernelspec": {
   "display_name": "Python 3.6",
   "language": "python",
   "name": "python3"
  }
 },
 "nbformat": 4,
 "nbformat_minor": 2
}
